{
 "cells": [
  {
   "cell_type": "markdown",
   "metadata": {},
   "source": [
    "---\n",
    "title: Lonboard vs Kepler-Gl\n",
    "subtitle: A comparison over the overture dataset\n",
    "date: 2024-05-29\n",
    "categories: [geospatial, lonboard, kepler-gl]\n",
    "image: images/cover.png\n",
    "toc: true\n",
    "draft: true\n",
    "twitter-card:\n",
    "  image: images/cover.png\n",
    "---"
   ]
  },
  {
   "cell_type": "markdown",
   "metadata": {},
   "source": [
    "## Aims\n",
    "\n",
    "In this blog post you will find a comparison between the open-source geospatial visualisation tools [Lonboard](https://developmentseed.org/lonboard/latest/) and [Kepler-Gl](https://docs.kepler.gl/).\n",
    "\n",
    "As susual "
   ]
  },
  {
   "cell_type": "code",
   "execution_count": 2,
   "metadata": {},
   "outputs": [],
   "source": [
    "#! pip install datashader\n",
    "# datashader tutorial https://datashader.org/getting_started/"
   ]
  },
  {
   "cell_type": "code",
   "execution_count": 5,
   "metadata": {},
   "outputs": [
    {
     "data": {
      "text/html": [
       "<div>\n",
       "<style scoped>\n",
       "    .dataframe tbody tr th:only-of-type {\n",
       "        vertical-align: middle;\n",
       "    }\n",
       "\n",
       "    .dataframe tbody tr th {\n",
       "        vertical-align: top;\n",
       "    }\n",
       "\n",
       "    .dataframe thead th {\n",
       "        text-align: right;\n",
       "    }\n",
       "</style>\n",
       "<table border=\"1\" class=\"dataframe\">\n",
       "  <thead>\n",
       "    <tr style=\"text-align: right;\">\n",
       "      <th></th>\n",
       "      <th>dropoff_x</th>\n",
       "      <th>dropoff_y</th>\n",
       "    </tr>\n",
       "  </thead>\n",
       "  <tbody>\n",
       "    <tr>\n",
       "      <th>0</th>\n",
       "      <td>-8.234835e+06</td>\n",
       "      <td>4.975627e+06</td>\n",
       "    </tr>\n",
       "    <tr>\n",
       "      <th>1</th>\n",
       "      <td>-8.237021e+06</td>\n",
       "      <td>4.976875e+06</td>\n",
       "    </tr>\n",
       "    <tr>\n",
       "      <th>2</th>\n",
       "      <td>-8.238124e+06</td>\n",
       "      <td>4.971127e+06</td>\n",
       "    </tr>\n",
       "    <tr>\n",
       "      <th>3</th>\n",
       "      <td>-8.238108e+06</td>\n",
       "      <td>4.974457e+06</td>\n",
       "    </tr>\n",
       "    <tr>\n",
       "      <th>4</th>\n",
       "      <td>-8.236804e+06</td>\n",
       "      <td>4.975483e+06</td>\n",
       "    </tr>\n",
       "  </tbody>\n",
       "</table>\n",
       "</div>"
      ],
      "text/plain": [
       "      dropoff_x     dropoff_y\n",
       "0 -8.234835e+06  4.975627e+06\n",
       "1 -8.237021e+06  4.976875e+06\n",
       "2 -8.238124e+06  4.971127e+06\n",
       "3 -8.238108e+06  4.974457e+06\n",
       "4 -8.236804e+06  4.975483e+06"
      ]
     },
     "execution_count": 5,
     "metadata": {},
     "output_type": "execute_result"
    }
   ],
   "source": [
    "import datashader as ds\n",
    "import pandas as pd\n",
    "import colorcet as cc\n",
    "\n",
    "df = pd.read_csv('../../datashader-examples/data/nyc_taxi.csv', usecols=['dropoff_x', 'dropoff_y'])\n",
    "df.head()"
   ]
  },
  {
   "cell_type": "code",
   "execution_count": 4,
   "metadata": {},
   "outputs": [
    {
     "name": "stdout",
     "output_type": "stream",
     "text": [
      "/Users/sebastianoferraris/repos/GeoDsBlog/posts/gds-2024-05-29-kepler-lonboard\n"
     ]
    }
   ],
   "source": [
    "! pwd"
   ]
  },
  {
   "cell_type": "code",
   "execution_count": null,
   "metadata": {},
   "outputs": [],
   "source": []
  }
 ],
 "metadata": {
  "kernelspec": {
   "display_name": "venv",
   "language": "python",
   "name": "python3"
  },
  "language_info": {
   "codemirror_mode": {
    "name": "ipython",
    "version": 3
   },
   "file_extension": ".py",
   "mimetype": "text/x-python",
   "name": "python",
   "nbconvert_exporter": "python",
   "pygments_lexer": "ipython3",
   "version": "3.11.9"
  }
 },
 "nbformat": 4,
 "nbformat_minor": 2
}
