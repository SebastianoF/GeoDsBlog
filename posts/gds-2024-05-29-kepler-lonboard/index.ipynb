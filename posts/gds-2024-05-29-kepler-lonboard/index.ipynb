{
 "cells": [
  {
   "cell_type": "markdown",
   "metadata": {},
   "source": [
    "---\n",
    "title: Lonboard vs Kepler-Gl\n",
    "subtitle: A comparison over the overture dataset\n",
    "date: 2024-05-29\n",
    "categories: [geospatial, lonboard, kepler-gl]\n",
    "image: images/cover.png\n",
    "toc: true\n",
    "draft: true\n",
    "twitter-card:\n",
    "  image: images/cover.png\n",
    "---"
   ]
  },
  {
   "cell_type": "markdown",
   "metadata": {},
   "source": [
    "## Aims\n",
    "\n",
    "In this blog post you will find a comparison between the open-source geospatial visualisation tools [Lonboard](https://developmentseed.org/lonboard/latest/) and [Kepler-Gl](https://docs.kepler.gl/).\n",
    "\n",
    "As susual "
   ]
  },
  {
   "cell_type": "code",
   "execution_count": null,
   "metadata": {},
   "outputs": [],
   "source": []
  },
  {
   "cell_type": "code",
   "execution_count": null,
   "metadata": {},
   "outputs": [],
   "source": []
  },
  {
   "cell_type": "code",
   "execution_count": null,
   "metadata": {},
   "outputs": [],
   "source": []
  },
  {
   "cell_type": "code",
   "execution_count": null,
   "metadata": {},
   "outputs": [],
   "source": []
  }
 ],
 "metadata": {
  "language_info": {
   "name": "python"
  }
 },
 "nbformat": 4,
 "nbformat_minor": 2
}
