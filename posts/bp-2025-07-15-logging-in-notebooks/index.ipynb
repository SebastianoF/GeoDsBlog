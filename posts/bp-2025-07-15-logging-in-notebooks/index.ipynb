{
 "cells": [
  {
   "cell_type": "markdown",
   "metadata": {},
   "source": [
    "---\n",
    "title: Show python logs within jupyter notebooks\n",
    "subtitle: How to leave the print statements behind\n",
    "date: 2025-07-15\n",
    "categories: [hacks, tutorial, logging]\n",
    "image: images/cover.png\n",
    "toc: true\n",
    "draft: false\n",
    "github: <a href=\"https://github.com/SebastianoF/GeoDsBlog/blob/master/posts/bp-2025-07-15-gpg/index.qmd\" target=\"_blank\">  <img src=\"images/github.svg\"> </a>\n",
    "twitter-card:\n",
    "  image: images/cover.png\n",
    "include-in-header: meta.html\n",
    "---\n",
    "\n"
   ]
  },
  {
   "cell_type": "markdown",
   "metadata": {},
   "source": [
    "\n",
    "![](images/cover.png)\n",
    "\n",
    "\n",
    "This is another blog post aiming at the best approximation of coding best practices I can produce, and it goes beyond the topic of geospatial data science to which this blog is devoted.\n",
    "\n",
    "Inspired by [this stack-overflow question](https://stackoverflow.com/questions/79651249/logger-from-jupyter-notebook-does-not-work-unless-calling-the-root-logger-at-le) stack-overflow question, this blog post delineates how to customise and visualise log messages, and to prompt them into your jupyter notebook cells.\n",
    "\n",
    "### Problem\n",
    "\n",
    "To see what is happening under the hood, adding `print` messages in the sourced code, or [adding a breakpoint](https://code.visualstudio.com/docs/datascience/jupyter-notebooks#_debug-cell) for line-by-line debugging all valid options. At least until the `print` messages are of general use and the code is intended for production.\n",
    "\n",
    "When approaching production, [print messages are no longer a viable option](https://docs.astral.sh/ruff/rules/print/), but the logging messages taking their place would not be prompted to the jupyter notebook by default. One of my early solutions to this problem was to wrap the python `logging` library in a custom `PrintAndLog` class that would prints and log every message.\n",
    "\n",
    "If this sounded like a terrible idea, it is because it was a terrible idea. Beside the poor design, and the different goals of logging and of printing, it would cause duplicate logs when the code runs on platforms that also logs the printout. Moreover the printed messages would not be associated to any hierarchy level (i.e. `DEBUG`, `INFO`, `WARNING`, `ERROR` or `CRITICAL`).\n",
    "\n",
    "\n",
    "### Proposed solution\n",
    "\n",
    "Following [this stackoverflow message](https://stackoverflow.com/questions/533048/how-to-log-source-file-name-and-line-number-in-python/533077#533077) and [this gist](https://gist.github.com/vsajip/1782815), the proposed solution is a logger factory that wraps `logging.Formatter` to customise colors and formats, as well as to reduce logger instances duplication.\n"
   ]
  },
  {
   "cell_type": "code",
   "execution_count": 1,
   "metadata": {},
   "outputs": [],
   "source": [
    "# logger_custom_formatter.py\n",
    "\n",
    "import logging\n",
    "from logging import LogRecord\n",
    "\n",
    "\n",
    "class CustomFormatter(logging.Formatter):\n",
    "    grey = \"\\x1b[38;20m\"\n",
    "    green = \"\\033[92m\"\n",
    "    yellow = \"\\x1b[33;20m\"\n",
    "    red = \"\\x1b[31;20m\"\n",
    "    bold_red = \"\\x1b[31;1m\"\n",
    "    reset = \"\\x1b[0m\"\n",
    "    my_format = \"%(asctime)s - %(name)s - %(levelname)s - %(message)s (%(filename)s:%(lineno)d)\"\n",
    "\n",
    "    dict_formats = {\n",
    "        logging.DEBUG: grey + my_format + reset,\n",
    "        logging.INFO: green + my_format + reset,\n",
    "        logging.WARNING: yellow + my_format + reset,\n",
    "        logging.ERROR: red + my_format + reset,\n",
    "        logging.CRITICAL: bold_red + my_format + reset,\n",
    "    }\n",
    "\n",
    "    def format(self, record: LogRecord) -> str:\n",
    "        log_format = self.dict_formats.get(record.levelno)\n",
    "        formatter = logging.Formatter(log_format)\n",
    "        return formatter.format(record)\n",
    "\n",
    "\n",
    "def get_logger(filename: str) -> logging.Logger:\n",
    "    \"\"\"logging factory\"\"\"\n",
    "    filename = filename.split(\".\")[-1]\n",
    "    if filename in logging.root.manager.loggerDict:\n",
    "        # avoid logger duplicates\n",
    "        return logging.getLogger(filename)\n",
    "\n",
    "    logger = logging.getLogger(filename)\n",
    "    logger.setLevel(logging.INFO)\n",
    "    ch = logging.StreamHandler()\n",
    "    ch.setLevel(logging.DEBUG)\n",
    "    ch.setFormatter(CustomFormatter())\n",
    "    logger.addHandler(ch)\n",
    "    return logger\n"
   ]
  },
  {
   "cell_type": "markdown",
   "metadata": {},
   "source": [
    "Now, to have the custom formatter, you can create a logger within the jupyter notebook with:"
   ]
  },
  {
   "cell_type": "code",
   "execution_count": 2,
   "metadata": {},
   "outputs": [],
   "source": [
    "!export MallocStackLoggingNoCompact=1  # more about this line in the troubleshooting\n",
    "logger = get_logger(__name__)"
   ]
  },
  {
   "cell_type": "code",
   "execution_count": 3,
   "metadata": {},
   "outputs": [
    {
     "name": "stderr",
     "output_type": "stream",
     "text": [
      "\u001b[92m2025-07-15 18:53:48,773 - __main__ - INFO - logging some information (2803960019.py:1)\u001b[0m\n"
     ]
    }
   ],
   "source": [
    "logger.info(\"logging some information\")"
   ]
  },
  {
   "cell_type": "code",
   "execution_count": 4,
   "metadata": {},
   "outputs": [
    {
     "name": "stderr",
     "output_type": "stream",
     "text": [
      "\u001b[31;20m2025-07-15 18:53:48,778 - __main__ - ERROR - logging an error (2599693193.py:1)\u001b[0m\n"
     ]
    }
   ],
   "source": [
    "logger.error(\"logging an error\")"
   ]
  },
  {
   "cell_type": "markdown",
   "metadata": {},
   "source": [
    "Without the custom `get_logger`, logging can be achieved directly with the standard log, still taking care to passing ` __name__` in the `getLogger` function, instead of `__file__`.\n",
    "\n",
    "```python\n",
    "import logging\n",
    "\n",
    "logger = logging.getLogger(__name__)\n",
    "logger.warning(\"warning test\")\n",
    "```\n",
    "\n",
    "Tough this solution would result in a message with identical text formatting as writing `print(\"warning test\")` in the jupyter notebook."
   ]
  },
  {
   "cell_type": "markdown",
   "metadata": {},
   "source": [
    "You can check that the solution works with loggers, creating an external module where to import the logger factory:\n",
    "\n",
    "```python\n",
    "\n",
    "# external_module.py\n",
    "\n",
    "import numpy as np\n",
    "from logger_custom_formatter import get_logger\n",
    "\n",
    "logger = get_logger(__file__)\n",
    "\n",
    "def special_division(a: float, b: float) -> float:\n",
    "    try:\n",
    "        return a / b\n",
    "    except ZeroDivisionError:\n",
    "        if a == 0:\n",
    "            logger.warning(\"Zero numerator and denominator found. Returning zero\")\n",
    "            return 0\n",
    "        if a > 0:\n",
    "            logger.warning(\"Zero denominator found. Returning + infinity\")\n",
    "            return np.inf\n",
    "        else:\n",
    "            logger.warning(\"Zero denominator found. Returning - infinity\")\n",
    "            return -1 * np.inf\n",
    "\n",
    "```\n",
    "\n",
    " and then calling it from the jupyter notebook check that is correctly raised:"
   ]
  },
  {
   "cell_type": "code",
   "execution_count": 5,
   "metadata": {},
   "outputs": [
    {
     "name": "stderr",
     "output_type": "stream",
     "text": [
      "\u001b[33;20m2025-07-15 18:53:48,837 - py - WARNING - Zero denominator found. Returning + infinity (external_module.py:15)\u001b[0m\n"
     ]
    },
    {
     "data": {
      "text/plain": [
       "inf"
      ]
     },
     "execution_count": 5,
     "metadata": {},
     "output_type": "execute_result"
    }
   ],
   "source": [
    "from external_module import special_division\n",
    "\n",
    "special_division(7, 0)"
   ]
  },
  {
   "cell_type": "markdown",
   "metadata": {},
   "source": [
    "## Troubleshooting\n",
    "\n",
    "### If on MAC Sonoma\n",
    "\n",
    "To allow logs to be shown to jupyter notebooks, you may need to set `MallocStackLoggingNoCompact=1`. This can be achieved directly within the jupyter notebook with the `!` command to call the shell.\n",
    "\n",
    "```bash\n",
    "!export MallocStackLoggingNoCompact=1\n",
    "```\n",
    "\n",
    "### If using boto3\n",
    "\n",
    "If you are using boto3, you can avoid very long and [repetitive messages](https://github.com/boto/botocore/issues/1841) about `found credentials` with:\n",
    "```python\n",
    "import boto3\n",
    "\n",
    "boto3.set_stream_logger(name=\"botocore.credentials\", level=logging.ERROR)\n",
    "```"
   ]
  },
  {
   "cell_type": "markdown",
   "metadata": {},
   "source": [
    "## References\n",
    "\n",
    "- [Stackoverflow inspiring the blog post](https://stackoverflow.com/questions/79651249/logger-from-jupyter-notebook-does-not-work-unless-calling-the-root-logger-at-le)\n",
    "- [Stackoverflow answer about log formatting](https://stackoverflow.com/questions/533048/how-to-log-source-file-name-and-line-number-in-python/533077#533077)\n",
    "- [Gist about log formatting](https://gist.github.com/vsajip/1782815)\n"
   ]
  }
 ],
 "metadata": {
  "kernelspec": {
   "display_name": "GeoDsBlog (3.12.4)",
   "language": "python",
   "name": "python3"
  },
  "language_info": {
   "codemirror_mode": {
    "name": "ipython",
    "version": 3
   },
   "file_extension": ".py",
   "mimetype": "text/x-python",
   "name": "python",
   "nbconvert_exporter": "python",
   "pygments_lexer": "ipython3",
   "version": "3.12.4"
  }
 },
 "nbformat": 4,
 "nbformat_minor": 2
}
