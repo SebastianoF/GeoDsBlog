{
 "cells": [
  {
   "cell_type": "markdown",
   "metadata": {},
   "source": [
    "---\n",
    "title: The Golden Rectangle of Fashion — how to identify walking routes, dwells and co-locations\n",
    "subtitle: Article from the generalsystsem.com blog\n",
    "date: 2024-05-27\n",
    "categories: [geospatial, ad-tech, generalsystem]\n",
    "image: images/cover.png\n",
    "toc: true\n",
    "draft: true\n",
    "twitter-card:\n",
    "  image: images/cover.png\n",
    "---"
   ]
  },
  {
   "cell_type": "markdown",
   "metadata": {},
   "source": [
    "**Ownership Note:** I originally wrote this blog post for [generalsystem.com](https://www.generalsystem.com/blog/skewness-and-noise), and it was published on the 7th of February 2024 when it became of public domain. As the General System startup adventure is coming to an end, and the website may no longer be maintained, I keep it live on my personal blog. Here I could expand the article with the code embeddings that I could not add on the original version, and a more in depth-classification will be added.\n",
    "\n",
    "Special thanks to the [generalsystem.com](generalsystem.com) team members, in particular [Lisa Hutt](https://www.linkedin.com/in/lisahutt/) and [Nysa Wilson](https://www.linkedin.com/in/nysawilson/) for the revision and support. Typos and mistakes are on me."
   ]
  },
  {
   "cell_type": "markdown",
   "metadata": {},
   "source": [
    "## Intro\n",
    "\n",
    "What does a day in the Quadrilatero d'Oro, Milan's fashion district look like and how can retailers understand and respond to the complex footfall patterns?\n",
    "\n",
    "In this blog post, we use General System technology to analyse paths, dwells and co-location patterns of shoppers that were sharing their location through mobility data. \n",
    "\n",
    "The analysis is particularly relevant for retailers, media buyers, transport and city planners that are working with dynamic mobility data and are looking to extract similar insights or automate their reporting.    "
   ]
  },
  {
   "cell_type": "markdown",
   "metadata": {},
   "source": [
    "## Dataset\n",
    "\n",
    "![](images/co-location-analysis-map.png)\n",
    "\n",
    "\n",
    "The use case consists of two groups of people meeting in Milan for an afternoon of shopping. \n",
    "\n",
    "- The first group, which we called group G (Green) appears on the map from Lanza tube station, line 2. \n",
    "- The second group, Y (Yelllow) arrives shortly afterwards at the Cordusio tube station Cordusio, line 1.\n",
    "\n",
    "After a short walk from the tube station, both groups merge on the Via DelL'Orso and head East together before splitting around Teatro La Scala.  They meet again on Via Manzoni for another tandem walk to the first shop. \n",
    "\n",
    "\n",
    "After the first shop, they split again. Group G walks southwards to visit a couple of shops, while group Y continues along via Manzoni to their next shop. Group G and Y regather for a visit to the last shop and finally head towards the Metro.  Group G returns to Lanza tube station, while group Y heads for nearby Turati tube station on Line 3.\n",
    "\n",
    "‍\n",
    "![](images/data-no-noise.png)\n",
    "\n",
    "\n",
    "This dataset is synthetic and built with the noise model presented in the previous blog post.\n",
    "\n",
    "‍![](images/data-with-noise.png)‍\n",
    "\n",
    "So far, the data creates visually appealing graphs that show the routes of each group."
   ]
  },
  {
   "cell_type": "markdown",
   "metadata": {},
   "source": [
    "## Finding dwells\n",
    "‍\n",
    "\n",
    "To mine significant information from the data, such as what shops were visited throughout the afternoon, we calculate where each group has dwelled using the dwell calculator algorithm.\n",
    "\n",
    "For this analysis, we define a dwell as a location of radius 15 metres, where a device (or a group of devices) has remained for more than 10 minutes.  The algorithm also takes the outliers into account and removes them from the dwell detection.\n",
    "\n",
    "The algorithm returns a vector of labels, a vector of exceptions, and a table of geometries and time intervals where the dwells have occurred.\n",
    "\n",
    "On the map, we can show the dwell geometries as ellipses after performing a Principle Component Analysis (PCA) on the pings that have been labelled as a dwell, or as a convex hull or a concave hull.\n",
    "‍\n",
    "\n",
    "‍![](images/dwells-pca.png)‍  \n",
    "\n",
    "Given the number of pings in this example, the ellipses representation provides a reasonable representation of the dwell's geometry, though there are other options. Below, we also show a visualisation of the concave hull, whose outline helps us understand how the pings are spread out around the centre of the visit. \n",
    "\n",
    "‍\n",
    "\n",
    "‍![](images/dwells-concave-hull.png)‍  \n",
    "\n",
    "‍\n",
    "\n",
    "Comparing the algorithm response with the ground truth we can see that all the dwells are correctly identified. We can see where both groups have dwelled as well where each group dwelled individually."
   ]
  },
  {
   "cell_type": "markdown",
   "metadata": {},
   "source": [
    "## Finding co-locations\n",
    "\n",
    "Intersecting the geometries and time intervals of the dwells for the two groups provides the co-dwells, though this would not be informative enough if we also wanted to investigate where the two groups have been co-travelling. \n",
    "\n",
    "These more generic features, called co-locations, are the locations and time intervals where the devices have met, both in a static setting and in a dynamic setting.\n",
    "\n",
    "\n",
    "As it was for the visits, the co-locations are given as geometries and time intervals.\n",
    "\n",
    "\n",
    "‍\n",
    "‍![](images/co-locations-geometries.png)‍  \n",
    "\n",
    "\n",
    "‍\n",
    "\n",
    "We can compare the co-locations and individual dwells to see that during the first co-location (first row), the two groups did not stop in any shop; they were simply walking together.\n",
    "\n",
    "‍![](images/co-locations-time-intervals.png)‍  \n",
    "\n",
    "For the second co-location (second block of the first row), we can see that 10 minutes are spent together, without moving, in the same location.\n",
    "\n",
    "\n",
    "Afterwards, group Y visits another shop for about 30 minutes, while group G dwells for 25 minutes. We can see they are not in the same location, as the co-location algorithm has not detected joint activities. \n",
    "\n",
    "‍\n",
    "\n",
    "Finally, for the last co-location, both groups are static for about 10 minutes. "
   ]
  },
  {
   "cell_type": "markdown",
   "metadata": {},
   "source": [
    "## What's next\n",
    "‍\n",
    "In this blog post we used a toy example to show what can be achieved with mobility data and a couple of algorithms. The algorithms are robust enough to cope with the noise in mobility data. Moreover, a larger-scale dataset would account for, and further reduce the data imprecision.At scale we can investigate the behaviour of shoppers across a city centre to learn:\n",
    "\n",
    "- the most common entry and exit points for the shopping center\n",
    "- most common routes\n",
    "- sequences of shops attended by crowds\n",
    "- the times, days and seasons when these shops are most popular\n",
    "- the volume of pedestrians on roads, in shops and other large buildings\n",
    "- changes in patterns due to macro influences such as the weather or public events\n",
    "\n",
    "## Use Cases\n",
    "\n",
    "Retailers, advertisers, transport and city planners can use these methods to extract insights and make informed business decisions and reports can be automated to create analytical dashboards that highlight trends over time.\n",
    "\n",
    "Analysing the multiple dimensions of movement over time involves working with very large, dynamic mobility data sets."
   ]
  }
 ],
 "metadata": {
  "language_info": {
   "name": "python"
  }
 },
 "nbformat": 4,
 "nbformat_minor": 2
}
