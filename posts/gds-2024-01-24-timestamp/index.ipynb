{
 "cells": [
  {
   "cell_type": "markdown",
   "metadata": {},
   "source": [
    "---\n",
    "title: Python datetimes manipulations\n",
    "subtitle: A primer on timestamps, datetimes and timezones\n",
    "author: Sebastiano Ferraris\n",
    "date: 2024-01-24\n",
    "categories: [tutorial, geospatial]\n",
    "image: images/cover.png\n",
    "toc: true\n",
    "draft: false\n",
    "colab: <a href=\"https://colab.research.google.com/github/SebastianoF/GeoDsBlog/blob/master/posts/gds-2022-07-29-office-pos/index.ipynb\" target=\"_blank\"><img src=\"images/colab.svg\"></a>\n",
    "github: <a href=\"https://github.com/SebastianoF/GeoDsBlog/blob/master/posts/gds-2022-07-29-office-pos/index.ipynb\" target=\"_blank\">  <img src=\"images/github.svg\"> </a>\n",
    "twitter-card:\n",
    "  image: images/cover.png\n",
    "---\n"
   ]
  },
  {
   "cell_type": "markdown",
   "metadata": {},
   "source": [
    "![](images/cover.png)\n"
   ]
  },
  {
   "cell_type": "markdown",
   "metadata": {},
   "source": [
    "## Summary\n",
    "\n",
    "This blog post is collects all the methods for converting datetime objects across types in python and pandas in one place.\n",
    "\n",
    "The code snippet and the subsequent diagram summarise the data casting between `datetime`, `int`, `str`, `pd.Timestamp`.\n",
    "\n",
    "The remaining sections offers more details for each conversion with some additional details and caveats. The post concludes with a section about some snippets to manipulate [**timezones**](https://geospatial.netlify.app/posts/gds-2024-01-24-timestamp/#timezones) in all the examined formats.\n"
   ]
  },
  {
   "cell_type": "code",
   "execution_count": 41,
   "metadata": {},
   "outputs": [],
   "source": [
    "import datetime as dt\n",
    "import pandas as pd\n",
    "\n",
    "# create a datetime\n",
    "dt_event = dt.datetime(year=2024, month=1, day=22, hour=13, minute=55, second=12)\n",
    "\n",
    "# convert to string with specific format code\n",
    "FORMAT_CODE = \"%m/%d/%Y, %H:%M:%S\"\n",
    "dt_event_str = dt_event.strftime(FORMAT_CODE)\n",
    "\n",
    "# convert from string to datetime\n",
    "dt_event = dt.datetime.strptime(dt_event_str, FORMAT_CODE)\n",
    "\n",
    "# convert from datetime to integer (milliseconds)\n",
    "msec_event = int(dt_event.timestamp() * 1000)\n",
    "\n",
    "# convert from milliseconds to integer\n",
    "dt_event = dt.datetime.fromtimestamp(msec_event / 1000)\n",
    "\n",
    "# create a list of timestamps\n",
    "dt_start, dt_end = dt.datetime(2022, 3, 1), dt.datetime(2022, 3, 10)\n",
    " \n",
    "list_events = []\n",
    "\n",
    "while dt_start <= dt_end:\n",
    "    list_events.append(dt_start)\n",
    "    dt_start += dt.timedelta(days=1)\n",
    "\n",
    "# convert list of timestamps to pandas DatetimeIdex of pd.Timestamps\n",
    "index_events = pd.to_datetime(list_events)\n",
    "\n",
    "# convert pandas DatetimeIdex of pd.Timestamps to list of timestamps\n",
    "list_events = [dt.datetime.combine(x.date(), x.time()) for x in index_events]\n",
    "\n",
    "\n",
    "# convert pandas DatetimeIdex of pd.Timestamps to an Index of integers (nanoseconds)\n",
    "index_events_int = index_events.astype(int)\n",
    "\n",
    "# convert pandas Index of integers (nanoseconds) to DatetimeIdex of pd.Timestamps\n",
    "index_events = pd.to_datetime(index_events_int)\n",
    "\n",
    "# convert pandas DatetimeIdex of pd.Timestamps to an Index of strings\n",
    "index_events_str = index_events.astype(str)\n",
    "\n",
    "# convert pandas Index of strings to DatetimeIdex of pd.Timestamps\n",
    "index_events = pd.to_datetime(index_events_str)"
   ]
  },
  {
   "cell_type": "markdown",
   "metadata": {},
   "source": [
    "![](images/main_diagram.png)"
   ]
  },
  {
   "cell_type": "markdown",
   "metadata": {},
   "source": [
    "\n",
    "## Introduction\n",
    "\n",
    "When first started working with time series, a recurrent task was for me to google up ways to convert datetimes across python and pandas data types. It took me some times to get to have a grasp about the possibilities and conversion methods, as well as how to set and change timezones without making mistakes. \n",
    "\n",
    "This blog post is for you to get the same information I got browsing for a while around various stackoverflows and documentation pages, all in one place.\n",
    "\n",
    "As it is for [manipulations of polygons](https://geospatial.netlify.app/posts/gds-2022-10-03-polygons-part-1/), handling datetimes is another recurring task in geospatial data science.\n",
    "\n",
    "In python there are multiple ways to encode a point in time according to a range of criteria: \n",
    "\n",
    "- Readability\n",
    "- Storing space\n",
    "- Out of the box methods\n",
    "\n",
    "Before delving into some examples, let's warm up with a code snippet showing what can go wrong if dates and times are manipulated carelessly.\n"
   ]
  },
  {
   "cell_type": "code",
   "execution_count": 2,
   "metadata": {},
   "outputs": [
    {
     "name": "stdout",
     "output_type": "stream",
     "text": [
      "Events as type <class 'datetime.datetime'>\n",
      "Event 1: 2022-05-01 22:15:00+00:00\n",
      "Event 2: 2022-06-01 18:30:00+00:00\n",
      "\n",
      "Datetime 2022-05-01 22:15:00+00:00 comes before 2022-06-01 18:30:00+00:00\n",
      "\n",
      "Events as type <class 'str'>\n",
      "Event 1: 22:15:00+0000 2022-05-01\n",
      "Event 2: 18:30:00+0000 2022-06-01\n",
      "\n",
      "Datetime 22:15:00+0000 2022-05-01 comes after 18:30:00+0000 2022-06-01.\n",
      "Oh, Really?\n"
     ]
    }
   ],
   "source": [
    "import datetime as dt\n",
    "\n",
    "FORMAT = \"%H:%M:%S%z %Y-%m-%d\"\n",
    "\n",
    "event_1 = dt.datetime.strptime(\"22:15:00+00:00 2022-05-01\", FORMAT)\n",
    "event_2 = dt.datetime.strptime(\"18:30:00+00:00 2022-06-01\", FORMAT)\n",
    "\n",
    "print(f\"Events as type {type(event_1)}\")\n",
    "print(f\"Event 1: {event_1}\")\n",
    "print(f\"Event 2: {event_2}\")\n",
    "\n",
    "if event_1 < event_2: \n",
    "    print(f\"\\nDatetime {event_1} comes before {event_2}\")\n",
    "\n",
    "\n",
    "event_1 = event_1.strftime(FORMAT)\n",
    "event_2 = event_2.strftime(FORMAT)\n",
    "\n",
    "print(f\"\\nEvents as type {type(event_1)}\")\n",
    "print(f\"Event 1: {event_1}\")\n",
    "print(f\"Event 2: {event_2}\")\n",
    "\n",
    "\n",
    "if event_1 > event_2: \n",
    "    print(f\"\\nDatetime {event_1} comes after {event_2}.\")\n",
    "    print(\"Oh, Really?\")"
   ]
  },
  {
   "cell_type": "markdown",
   "metadata": {},
   "source": [
    "Can you see what went wrong?\n",
    "\n",
    "In this example we started from two datetimes (any representation of a date and a time) in `string` format. These were converted to instances of `datetime.datetime` from the [standard library `datetime`](https://docs.python.org/3/library/datetime.html). \n",
    "\n",
    "The first odd thing, that becomes evident when calling `type(dt.datetime.strptime(\"22:15:00+00:00 2022-05-01\", FORMAT))` is that `datetime.datetime` is not a class. It is a `type`, like `int` and `str`, so it does not follow the camel case convention[^1]. \n",
    "\n",
    "Also that the type name and the library name are the same. So, in some modules you will find `from datetime import datetime` and in other simply `import datetime`, a confusion that I avoid usually aliasing the library `datetime` to `dt`, as done in the previous example.\n",
    "\n",
    "From the diagram shown, we can see another source of possible confusions: in the python world the term `timestamp` refers to a datetime object converted to an integer — more details in the section later about how this is done. In the pandas world instead, the term `timestamp` is used as the class that encodes the pandas datetime object. So there is a change in the naming convention if you are using the python standards libraries, or if you are using pandas. \n",
    "\n",
    "Starting from the center of the diagram, in each section of this post we will explore a conversion and the specifications of the given types, leaving `pandas.Timestamp` for last.\n",
    "\n",
    "[^1]: In Python >3 the concepts of class and type was unified, and pure `type` objects are now only the native ones."
   ]
  },
  {
   "cell_type": "markdown",
   "metadata": {},
   "source": [
    "## `datetime.datetime` to `str` and back\n",
    "\n",
    "There are many formats to represent a datetime into a string. One of the standard is specified in [ISO8601](https://en.wikipedia.org/wiki/ISO_8601).\n"
   ]
  },
  {
   "cell_type": "code",
   "execution_count": 3,
   "metadata": {},
   "outputs": [
    {
     "data": {
      "text/plain": [
       "datetime.datetime(2024, 1, 22, 0, 0)"
      ]
     },
     "execution_count": 3,
     "metadata": {},
     "output_type": "execute_result"
    }
   ],
   "source": [
    "# create a datetime - you need at least year, month and day.\n",
    "dt_event = dt.datetime(year=2024, month=1, day=22)\n",
    "dt_event"
   ]
  },
  {
   "cell_type": "code",
   "execution_count": 4,
   "metadata": {},
   "outputs": [
    {
     "data": {
      "text/plain": [
       "datetime.datetime(2024, 1, 22, 13, 55, 12)"
      ]
     },
     "execution_count": 4,
     "metadata": {},
     "output_type": "execute_result"
    }
   ],
   "source": [
    "# create a datetime with hour, minutes and seconds\n",
    "dt_event = dt.datetime(year=2024, month=1, day=22, hour=13, minute=55, second=12)\n",
    "dt_event"
   ]
  },
  {
   "cell_type": "code",
   "execution_count": 5,
   "metadata": {},
   "outputs": [
    {
     "name": "stdout",
     "output_type": "stream",
     "text": [
      "01/22/2024, 13:55:12\n",
      "2024-01-22, 13:55\n",
      "13:55\n"
     ]
    }
   ],
   "source": [
    "# convert to string with a range of formats\n",
    "print(dt_event.strftime(\"%m/%d/%Y, %H:%M:%S\"))\n",
    "print(dt_event.strftime(\"%Y-%m-%d, %H:%M\"))\n",
    "print(dt_event.strftime(\"%H:%M\"))"
   ]
  },
  {
   "cell_type": "markdown",
   "metadata": {},
   "source": [
    "Once we have the string we can move back to the timestamp object, passing the same format code (this operation is not bijective if some of the information is not included in the chosen format code).\n",
    "\n",
    "More info about the format codes and what each letter means is available at the official documentation <https://docs.python.org/3/library/datetime.html#strftime-and-strptime-behavior>."
   ]
  },
  {
   "cell_type": "code",
   "execution_count": 6,
   "metadata": {},
   "outputs": [
    {
     "name": "stdout",
     "output_type": "stream",
     "text": [
      "Datetime: 2024-01-22 13:55:12.000120\n",
      "String:   2024-01-22 13:55:12.000120\n",
      "Datetime: 2024-01-22 13:55:12\n"
     ]
    }
   ],
   "source": [
    "# Create a datetime object\n",
    "dt_event = dt.datetime(year=2024, month=1, day=22, hour=13, minute=55, second=12, microsecond=120)\n",
    "print(f\"Datetime: {dt_event}\")\n",
    "\n",
    "# convert to string\n",
    "FORMAT_CODE = \"%m/%d/%Y, %H:%M:%S\"\n",
    "str_event = dt_event.strftime(FORMAT_CODE)\n",
    "print(f\"String:   {dt_event}\")\n",
    "\n",
    "# string to datetime\n",
    "print(f\"Datetime: {dt.datetime.strptime(str_event, FORMAT_CODE)}\")"
   ]
  },
  {
   "cell_type": "markdown",
   "metadata": {},
   "source": [
    "In addition to `timestamp.timestamp` you can create only the `time`, the `date` and a `timedelta`."
   ]
  },
  {
   "cell_type": "code",
   "execution_count": 7,
   "metadata": {},
   "outputs": [
    {
     "name": "stdout",
     "output_type": "stream",
     "text": [
      "04:00:00\n",
      "2024-03-11\n",
      "3:00:00\n",
      "Error raised: TypeError unsupported operand type(s) for +: 'datetime.time' and 'datetime.time'\n",
      "Error raised: TypeError unsupported operand type(s) for +: 'datetime.date' and 'datetime.time'\n",
      "2024-03-11 07:00:00\n"
     ]
    }
   ],
   "source": [
    "print(dt.time(hour=4))\n",
    "print(dt.date(year=2024, month=3, day=11))\n",
    "print(dt.timedelta(hours=3))  \n",
    "\n",
    "# we can not sum a timedelta to a time\n",
    "try:\n",
    "    print(dt.time(hour=4) + dt.time(hour=4))\n",
    "except TypeError as err:\n",
    "    print(f\"Error raised: TypeError {err}\")\n",
    "\n",
    "# nor to a date\n",
    "try:\n",
    "    print(dt.date(year=2024, month=3, day=11) + dt.time(hour=4))\n",
    "except TypeError as err:\n",
    "    print(f\"Error raised: TypeError {err}\")\n",
    "\n",
    "# but we can sum it to a timestamp\n",
    "print(dt.datetime(year=2024, month=3, day=11, hour=3) + dt.timedelta(hours=4))"
   ]
  },
  {
   "cell_type": "code",
   "execution_count": 8,
   "metadata": {},
   "outputs": [
    {
     "data": {
      "text/plain": [
       "'2024-01-22T13:55:12.000120'"
      ]
     },
     "execution_count": 8,
     "metadata": {},
     "output_type": "execute_result"
    }
   ],
   "source": [
    "# if we quickly want to have the timestamp converted to a string in isoformat we can use:\n",
    "dt_event.isoformat()"
   ]
  },
  {
   "cell_type": "markdown",
   "metadata": {},
   "source": [
    "## `datetime.datetime` to `int` and back\n",
    "\n",
    "The integer representation of a `datetime` is called `timestamp` in the python world. We note again that it is not the same as the the pandas `Timestamp` object.\n",
    "\n",
    "A timestamp is a numerical representation of a date in the **Unix epoch** (or **Unix time** or **POSIX time** or **Unix timestamp**). It is the number of seconds that have elapsed since January 1, 1970 (midnight UTC/GMT), not counting leap seconds (using the ISO 8601 convention it is *1970-01-01T00:00:00Z*)."
   ]
  },
  {
   "cell_type": "code",
   "execution_count": 9,
   "metadata": {},
   "outputs": [
    {
     "name": "stdout",
     "output_type": "stream",
     "text": [
      "\u001b[0;31mDocstring:\u001b[0m Return POSIX timestamp as float.\n",
      "\u001b[0;31mType:\u001b[0m      builtin_function_or_method"
     ]
    }
   ],
   "source": [
    "dt_event = dt.datetime(year=2024, month=3, day=11, hour=3)\n",
    "dt_event.timestamp?"
   ]
  },
  {
   "cell_type": "markdown",
   "metadata": {},
   "source": [
    "Out of the box, the python timestamp is in seconds, and encoded as a `float`. In some dataset, and to save memory, it can be encoded in milliseconds or even in microseconds, and encoded as an integer."
   ]
  },
  {
   "cell_type": "code",
   "execution_count": 10,
   "metadata": {},
   "outputs": [
    {
     "name": "stdout",
     "output_type": "stream",
     "text": [
      "Datetime:         2024-03-11 03:00:00\n",
      "Python timestamp: 1710126000.0\n"
     ]
    }
   ],
   "source": [
    "print(f\"Datetime:         {dt_event}\")\n",
    "print(f\"Python timestamp: {dt_event.timestamp()}\")"
   ]
  },
  {
   "cell_type": "code",
   "execution_count": 11,
   "metadata": {},
   "outputs": [
    {
     "name": "stdout",
     "output_type": "stream",
     "text": [
      "Datetime:         1970-01-01 00:00:00+00:00\n",
      "Python timestamp: 0.0\n"
     ]
    }
   ],
   "source": [
    "ISO_FORMAT_CODE = \"%Y-%m-%dT%H:%M:%S%z\"\n",
    "dt_event_zero = dt.datetime.strptime(\"1970-01-01T00:00:00Z\", ISO_FORMAT_CODE)\n",
    "print(f\"Datetime:         {dt_event_zero}\")\n",
    "print(f\"Python timestamp: {dt_event_zero.timestamp()}\")"
   ]
  },
  {
   "cell_type": "code",
   "execution_count": 12,
   "metadata": {},
   "outputs": [
    {
     "name": "stdout",
     "output_type": "stream",
     "text": [
      "Datetime:              2024-03-11 03:13:45\n",
      "Python timestamp (s):  1710126825\n",
      "Python timestamp (ms): 1710126825000\n",
      "Back to datetime:      2024-03-11 03:13:45\n"
     ]
    }
   ],
   "source": [
    "dt_event = dt.datetime(year=2024, month=3, day=11, hour=3, minute=13, second=45)\n",
    "sec_event = int(dt_event.timestamp())\n",
    "msec_event = int(dt_event.timestamp() * 1000)  # convert to milliseconds before casting\n",
    "back_to_dt_event = dt.datetime.fromtimestamp(msec_event / 1000)\n",
    "\n",
    "print(f\"Datetime:              {dt_event}\")\n",
    "print(f\"Python timestamp (s):  {sec_event}\")\n",
    "print(f\"Python timestamp (ms): {msec_event}\")\n",
    "print(f\"Back to datetime:      {back_to_dt_event}\")"
   ]
  },
  {
   "cell_type": "markdown",
   "metadata": {},
   "source": [
    "## `datetime.datetime`, `str` and `int` to `pandas.Timestamp` and back\n",
    "\n",
    "In pandas we typically don't deal with a single datetime, but with a list of those. With timeseries, pandas becomes particularly efficient when timeseries are used as data frames indexes.\n",
    "\n",
    "Here we see some examples of conversion of lists of `datetime.datetime` into pandas `pd.Timestamp` indexes, and into `int` and `string`."
   ]
  },
  {
   "cell_type": "code",
   "execution_count": 13,
   "metadata": {},
   "outputs": [],
   "source": [
    "def print_events(iterable_events):\n",
    "    \"\"\"helper to print info about iterable events len and types\"\"\"\n",
    "    print(f\"{len(iterable_events)} days: \")\n",
    "    print(\"[\")\n",
    "    for ev in iterable_events:\n",
    "        print(f\"    {ev}\")\n",
    "    print(\"]\")\n",
    "    print(f\"This is a {type(iterable_events)} of {type(iterable_events[0])} elements.\")"
   ]
  },
  {
   "cell_type": "code",
   "execution_count": 14,
   "metadata": {},
   "outputs": [
    {
     "name": "stdout",
     "output_type": "stream",
     "text": [
      "10 days: \n",
      "[\n",
      "    2022-03-01 00:00:00\n",
      "    2022-03-02 00:00:00\n",
      "    2022-03-03 00:00:00\n",
      "    2022-03-04 00:00:00\n",
      "    2022-03-05 00:00:00\n",
      "    2022-03-06 00:00:00\n",
      "    2022-03-07 00:00:00\n",
      "    2022-03-08 00:00:00\n",
      "    2022-03-09 00:00:00\n",
      "    2022-03-10 00:00:00\n",
      "]\n",
      "This is a <class 'list'> of <class 'datetime.datetime'> elements.\n"
     ]
    }
   ],
   "source": [
    "# Create a list of datetime.datetime\n",
    "dt_start = dt.datetime(2022, 3, 1)\n",
    "dt_end = dt.datetime(2022, 3, 10)\n",
    " \n",
    "list_events = []\n",
    " \n",
    "while dt_start <= dt_end:\n",
    "    list_events.append(dt_start)\n",
    "    dt_start += dt.timedelta(days=1)\n",
    "\n",
    "print_events(list_events)"
   ]
  },
  {
   "cell_type": "code",
   "execution_count": 15,
   "metadata": {},
   "outputs": [
    {
     "name": "stdout",
     "output_type": "stream",
     "text": [
      "10 days: \n",
      "[\n",
      "    2022-03-01 00:00:00\n",
      "    2022-03-02 00:00:00\n",
      "    2022-03-03 00:00:00\n",
      "    2022-03-04 00:00:00\n",
      "    2022-03-05 00:00:00\n",
      "    2022-03-06 00:00:00\n",
      "    2022-03-07 00:00:00\n",
      "    2022-03-08 00:00:00\n",
      "    2022-03-09 00:00:00\n",
      "    2022-03-10 00:00:00\n",
      "]\n",
      "This is a <class 'pandas.core.indexes.datetimes.DatetimeIndex'> of <class 'pandas._libs.tslibs.timestamps.Timestamp'> elements.\n"
     ]
    }
   ],
   "source": [
    "# Create the same list as above, with pandas.date_range https://pandas.pydata.org/docs/reference/api/pandas.date_range.html\n",
    "import pandas as pd\n",
    "import numpy as np\n",
    "\n",
    "dt_start = dt.datetime(2022, 3, 1)\n",
    "dt_end = dt.datetime(2022, 3, 10)\n",
    " \n",
    "index_events = pd.date_range(start=dt_start, end=dt_end)\n",
    "\n",
    "print_events(index_events)"
   ]
  },
  {
   "cell_type": "code",
   "execution_count": 16,
   "metadata": {},
   "outputs": [
    {
     "data": {
      "text/html": [
       "<div>\n",
       "<style scoped>\n",
       "    .dataframe tbody tr th:only-of-type {\n",
       "        vertical-align: middle;\n",
       "    }\n",
       "\n",
       "    .dataframe tbody tr th {\n",
       "        vertical-align: top;\n",
       "    }\n",
       "\n",
       "    .dataframe thead th {\n",
       "        text-align: right;\n",
       "    }\n",
       "</style>\n",
       "<table border=\"1\" class=\"dataframe\">\n",
       "  <thead>\n",
       "    <tr style=\"text-align: right;\">\n",
       "      <th></th>\n",
       "      <th>0</th>\n",
       "    </tr>\n",
       "  </thead>\n",
       "  <tbody>\n",
       "    <tr>\n",
       "      <th>2022-03-01</th>\n",
       "      <td>m</td>\n",
       "    </tr>\n",
       "    <tr>\n",
       "      <th>2022-03-02</th>\n",
       "      <td>r</td>\n",
       "    </tr>\n",
       "    <tr>\n",
       "      <th>2022-03-03</th>\n",
       "      <td>n</td>\n",
       "    </tr>\n",
       "    <tr>\n",
       "      <th>2022-03-04</th>\n",
       "      <td>o</td>\n",
       "    </tr>\n",
       "    <tr>\n",
       "      <th>2022-03-05</th>\n",
       "      <td>r</td>\n",
       "    </tr>\n",
       "    <tr>\n",
       "      <th>2022-03-06</th>\n",
       "      <td>d</td>\n",
       "    </tr>\n",
       "    <tr>\n",
       "      <th>2022-03-07</th>\n",
       "      <td>m</td>\n",
       "    </tr>\n",
       "    <tr>\n",
       "      <th>2022-03-08</th>\n",
       "      <td>n</td>\n",
       "    </tr>\n",
       "    <tr>\n",
       "      <th>2022-03-09</th>\n",
       "      <td>a</td>\n",
       "    </tr>\n",
       "    <tr>\n",
       "      <th>2022-03-10</th>\n",
       "      <td>d</td>\n",
       "    </tr>\n",
       "  </tbody>\n",
       "</table>\n",
       "</div>"
      ],
      "text/plain": [
       "            0\n",
       "2022-03-01  m\n",
       "2022-03-02  r\n",
       "2022-03-03  n\n",
       "2022-03-04  o\n",
       "2022-03-05  r\n",
       "2022-03-06  d\n",
       "2022-03-07  m\n",
       "2022-03-08  n\n",
       "2022-03-09  a\n",
       "2022-03-10  d"
      ]
     },
     "execution_count": 16,
     "metadata": {},
     "output_type": "execute_result"
    }
   ],
   "source": [
    "# Assign the index to a dataframe\n",
    "import numpy as np\n",
    "df = pd.DataFrame(np.random.choice(list(\"random\"), size=len(index_events))).set_index(index_events)\n",
    "df"
   ]
  },
  {
   "cell_type": "code",
   "execution_count": 17,
   "metadata": {},
   "outputs": [
    {
     "name": "stdout",
     "output_type": "stream",
     "text": [
      "10 days: \n",
      "[\n",
      "    2022-03-01 00:00:00\n",
      "    2022-03-02 00:00:00\n",
      "    2022-03-03 00:00:00\n",
      "    2022-03-04 00:00:00\n",
      "    2022-03-05 00:00:00\n",
      "    2022-03-06 00:00:00\n",
      "    2022-03-07 00:00:00\n",
      "    2022-03-08 00:00:00\n",
      "    2022-03-09 00:00:00\n",
      "    2022-03-10 00:00:00\n",
      "]\n",
      "This is a <class 'pandas.core.indexes.datetimes.DatetimeIndex'> of <class 'pandas._libs.tslibs.timestamps.Timestamp'> elements.\n"
     ]
    }
   ],
   "source": [
    "# Same pandas index_events created above can be created directly with strings\n",
    "index_events = pd.date_range(start='3/1/2022', end='3/10/2022')\n",
    "\n",
    "print_events(index_events)"
   ]
  },
  {
   "cell_type": "code",
   "execution_count": 18,
   "metadata": {},
   "outputs": [
    {
     "name": "stdout",
     "output_type": "stream",
     "text": [
      "10 days: \n",
      "[\n",
      "    2022-03-01 00:00:00\n",
      "    2022-03-02 00:00:00\n",
      "    2022-03-03 00:00:00\n",
      "    2022-03-04 00:00:00\n",
      "    2022-03-05 00:00:00\n",
      "    2022-03-06 00:00:00\n",
      "    2022-03-07 00:00:00\n",
      "    2022-03-08 00:00:00\n",
      "    2022-03-09 00:00:00\n",
      "    2022-03-10 00:00:00\n",
      "]\n",
      "This is a <class 'pandas.core.indexes.datetimes.DatetimeIndex'> of <class 'pandas._libs.tslibs.timestamps.Timestamp'> elements.\n",
      "\n",
      "The two index events are not considered equal! Why?\n"
     ]
    }
   ],
   "source": [
    "# Convert the list of datetimes to the pandas index\n",
    "index_events_converted = pd.to_datetime(list_events)\n",
    "\n",
    "print_events(index_events)\n",
    "\n",
    "if not pd.testing.assert_index_equal(index_events_converted, index_events):\n",
    "    print()\n",
    "    print(\"The two index events are not considered equal! Why?\")"
   ]
  },
  {
   "cell_type": "markdown",
   "metadata": {},
   "source": [
    "Here something interesting have happened. Even if the two series have the same values, they are not equal.\n",
    "\n",
    "Printing them individually will show why:"
   ]
  },
  {
   "cell_type": "code",
   "execution_count": 19,
   "metadata": {},
   "outputs": [
    {
     "data": {
      "text/plain": [
       "DatetimeIndex(['2022-03-01', '2022-03-02', '2022-03-03', '2022-03-04',\n",
       "               '2022-03-05', '2022-03-06', '2022-03-07', '2022-03-08',\n",
       "               '2022-03-09', '2022-03-10'],\n",
       "              dtype='datetime64[ns]', freq='D')"
      ]
     },
     "execution_count": 19,
     "metadata": {},
     "output_type": "execute_result"
    }
   ],
   "source": [
    "index_events"
   ]
  },
  {
   "cell_type": "code",
   "execution_count": 20,
   "metadata": {},
   "outputs": [
    {
     "data": {
      "text/plain": [
       "DatetimeIndex(['2022-03-01', '2022-03-02', '2022-03-03', '2022-03-04',\n",
       "               '2022-03-05', '2022-03-06', '2022-03-07', '2022-03-08',\n",
       "               '2022-03-09', '2022-03-10'],\n",
       "              dtype='datetime64[ns]', freq=None)"
      ]
     },
     "execution_count": 20,
     "metadata": {},
     "output_type": "execute_result"
    }
   ],
   "source": [
    "index_events_converted"
   ]
  },
  {
   "cell_type": "markdown",
   "metadata": {},
   "source": [
    "The `freq=` value of the converted frequency is different from the frequency of the original one, that is defined by days. Under the hood they are different objects, as the first one contains first and last element and the frequency, and the second contains every single individual element.\n",
    "\n",
    "Even assigning the frequency to `index_events_converted` afterwards does not make the two DateteimeIndex equal:"
   ]
  },
  {
   "cell_type": "code",
   "execution_count": 21,
   "metadata": {},
   "outputs": [
    {
     "data": {
      "text/plain": [
       "DatetimeIndex(['2022-03-01', '2022-03-02', '2022-03-03', '2022-03-04',\n",
       "               '2022-03-05', '2022-03-06', '2022-03-07', '2022-03-08',\n",
       "               '2022-03-09', '2022-03-10'],\n",
       "              dtype='datetime64[ns]', freq='D')"
      ]
     },
     "execution_count": 21,
     "metadata": {},
     "output_type": "execute_result"
    }
   ],
   "source": [
    "index_events_converted.freq = \"D\"\n",
    "index_events_converted"
   ]
  },
  {
   "cell_type": "code",
   "execution_count": 22,
   "metadata": {},
   "outputs": [
    {
     "name": "stdout",
     "output_type": "stream",
     "text": [
      "\n",
      "The two index events are still not equal!\n"
     ]
    }
   ],
   "source": [
    "if not pd.testing.assert_index_equal(index_events_converted, index_events):\n",
    "    print()\n",
    "    print(\"The two index events are still not equal!\")"
   ]
  },
  {
   "cell_type": "markdown",
   "metadata": {},
   "source": [
    "When working with `pd.Timestamp` we have to keep in mind that different constructors creating the same numerical results produce different objects.\n",
    "\n",
    "What about the memory? Also this is the same for both objects:"
   ]
  },
  {
   "cell_type": "code",
   "execution_count": 23,
   "metadata": {},
   "outputs": [
    {
     "name": "stdout",
     "output_type": "stream",
     "text": [
      "80\n",
      "80\n"
     ]
    }
   ],
   "source": [
    "print(index_events.memory_usage())\n",
    "print(index_events_converted.memory_usage())"
   ]
  },
  {
   "cell_type": "markdown",
   "metadata": {},
   "source": [
    "Now we can convert back from a pandas `DatetimeIndex` to a list of `datetime.datetime` objects. \n",
    "\n",
    "A `pd.Timestamp` object can not be converted directly into a `datetime.datetime` object, but it can be converted into a `datetime.date` and a `datetime.time` object. \n",
    "\n",
    "So we can use a list comprehension and combine the two exported formats:"
   ]
  },
  {
   "cell_type": "code",
   "execution_count": 24,
   "metadata": {},
   "outputs": [
    {
     "name": "stdout",
     "output_type": "stream",
     "text": [
      "Event 2022-06-18 12:34:56 of type <class 'pandas._libs.tslibs.timestamps.Timestamp'>\n",
      "Event 2022-06-18 12:34:56 of type <class 'datetime.datetime'>\n"
     ]
    }
   ],
   "source": [
    "# Create a Pandas Timestamp object\n",
    "pd_event = pd.Timestamp('2022-06-18 12:34:56')\n",
    "\n",
    "# Convert the Timestamp to a Python datetime.date object\n",
    "date = pd_event.date()\n",
    "time = pd_event.time()\n",
    "dt_event = dt.datetime.combine(date, time)\n",
    "\n",
    "print(f\"Event {pd_event} of type {type(pd_event)}\")\n",
    "print(f\"Event {dt_event} of type {type(dt_event)}\")"
   ]
  },
  {
   "cell_type": "code",
   "execution_count": 25,
   "metadata": {},
   "outputs": [
    {
     "name": "stdout",
     "output_type": "stream",
     "text": [
      "10 days: \n",
      "[\n",
      "    2022-03-01 00:00:00\n",
      "    2022-03-02 00:00:00\n",
      "    2022-03-03 00:00:00\n",
      "    2022-03-04 00:00:00\n",
      "    2022-03-05 00:00:00\n",
      "    2022-03-06 00:00:00\n",
      "    2022-03-07 00:00:00\n",
      "    2022-03-08 00:00:00\n",
      "    2022-03-09 00:00:00\n",
      "    2022-03-10 00:00:00\n",
      "]\n",
      "This is a <class 'list'> of <class 'datetime.datetime'> elements.\n"
     ]
    }
   ],
   "source": [
    "index_event_converted_back = [dt.datetime.combine(x.date(), x.time()) for x in index_events_converted]\n",
    "print_events(index_event_converted_back)"
   ]
  },
  {
   "cell_type": "markdown",
   "metadata": {},
   "source": [
    "### Pandas `Timestamp` to `int`\n",
    "\n",
    "To convert a pandas `DatetimeIndex` from `pd.Timestamp` to integer, we have to use the `.astype` method of a pandas series."
   ]
  },
  {
   "cell_type": "code",
   "execution_count": 26,
   "metadata": {},
   "outputs": [
    {
     "name": "stdout",
     "output_type": "stream",
     "text": [
      "DatetimeIndex(['2022-03-01', '2022-03-02', '2022-03-03', '2022-03-04',\n",
      "               '2022-03-05', '2022-03-06', '2022-03-07', '2022-03-08',\n",
      "               '2022-03-09', '2022-03-10'],\n",
      "              dtype='datetime64[ns]', freq='D')\n",
      "\n",
      "Index([1646092800000000000, 1646179200000000000, 1646265600000000000,\n",
      "       1646352000000000000, 1646438400000000000, 1646524800000000000,\n",
      "       1646611200000000000, 1646697600000000000, 1646784000000000000,\n",
      "       1646870400000000000],\n",
      "      dtype='int64')\n"
     ]
    }
   ],
   "source": [
    "print(index_events)\n",
    "index_events_int = index_events.astype(int)\n",
    "print()\n",
    "print(index_events_int)"
   ]
  },
  {
   "cell_type": "markdown",
   "metadata": {},
   "source": [
    "The timestamps are now in nanoseconds, as specified in the dtype of the DatetimeIndex `index_events`. You have to divide it by 1e9 to have them in seconds:"
   ]
  },
  {
   "cell_type": "code",
   "execution_count": 27,
   "metadata": {},
   "outputs": [
    {
     "data": {
      "text/plain": [
       "Index([1646092800, 1646179200, 1646265600, 1646352000, 1646438400, 1646524800,\n",
       "       1646611200, 1646697600, 1646784000, 1646870400],\n",
       "      dtype='int64')"
      ]
     },
     "execution_count": 27,
     "metadata": {},
     "output_type": "execute_result"
    }
   ],
   "source": [
    "index_events_int_sec = (index_events_int / 1e9).astype(int)\n",
    "index_events_int_sec"
   ]
  },
  {
   "cell_type": "code",
   "execution_count": 28,
   "metadata": {},
   "outputs": [
    {
     "data": {
      "text/plain": [
       "DatetimeIndex(['2022-03-01', '2022-03-02', '2022-03-03', '2022-03-04',\n",
       "               '2022-03-05', '2022-03-06', '2022-03-07', '2022-03-08',\n",
       "               '2022-03-09', '2022-03-10'],\n",
       "              dtype='datetime64[ns]', freq=None)"
      ]
     },
     "execution_count": 28,
     "metadata": {},
     "output_type": "execute_result"
    }
   ],
   "source": [
    "# convert back to `DatetimeIndex`\n",
    "pd.to_datetime(index_events_int)"
   ]
  },
  {
   "cell_type": "code",
   "execution_count": 29,
   "metadata": {},
   "outputs": [
    {
     "data": {
      "text/plain": [
       "DatetimeIndex(['1970-01-01 00:00:01.646092800',\n",
       "               '1970-01-01 00:00:01.646179200',\n",
       "               '1970-01-01 00:00:01.646265600',\n",
       "                  '1970-01-01 00:00:01.646352',\n",
       "               '1970-01-01 00:00:01.646438400',\n",
       "               '1970-01-01 00:00:01.646524800',\n",
       "               '1970-01-01 00:00:01.646611200',\n",
       "               '1970-01-01 00:00:01.646697600',\n",
       "                  '1970-01-01 00:00:01.646784',\n",
       "               '1970-01-01 00:00:01.646870400'],\n",
       "              dtype='datetime64[ns]', freq=None)"
      ]
     },
     "execution_count": 29,
     "metadata": {},
     "output_type": "execute_result"
    }
   ],
   "source": [
    "# convert back to `DatetimeIndex`. Pandas expects nanoseconds\n",
    "pd.to_datetime(index_events_int_sec)"
   ]
  },
  {
   "cell_type": "markdown",
   "metadata": {},
   "source": [
    "### Pandas `Timestamp` to `str`\n",
    "\n",
    "Conversion to strings works in the same way as with `int`."
   ]
  },
  {
   "cell_type": "code",
   "execution_count": 30,
   "metadata": {},
   "outputs": [
    {
     "name": "stdout",
     "output_type": "stream",
     "text": [
      "DatetimeIndex(['2022-03-01', '2022-03-02', '2022-03-03', '2022-03-04',\n",
      "               '2022-03-05', '2022-03-06', '2022-03-07', '2022-03-08',\n",
      "               '2022-03-09', '2022-03-10'],\n",
      "              dtype='datetime64[ns]', freq='D')\n",
      "\n",
      "Index(['2022-03-01', '2022-03-02', '2022-03-03', '2022-03-04', '2022-03-05',\n",
      "       '2022-03-06', '2022-03-07', '2022-03-08', '2022-03-09', '2022-03-10'],\n",
      "      dtype='object')\n"
     ]
    }
   ],
   "source": [
    "# convert from DatetimeIndex to string.\n",
    "print(index_events)\n",
    "index_events_str = index_events.astype(str)\n",
    "print()\n",
    "print(index_events_str)"
   ]
  },
  {
   "cell_type": "code",
   "execution_count": 31,
   "metadata": {},
   "outputs": [
    {
     "data": {
      "text/plain": [
       "DatetimeIndex(['2022-03-01', '2022-03-02', '2022-03-03', '2022-03-04',\n",
       "               '2022-03-05', '2022-03-06', '2022-03-07', '2022-03-08',\n",
       "               '2022-03-09', '2022-03-10'],\n",
       "              dtype='datetime64[ns]', freq=None)"
      ]
     },
     "execution_count": 31,
     "metadata": {},
     "output_type": "execute_result"
    }
   ],
   "source": [
    "# convert back from string to DatetimeIndex\n",
    "pd.to_datetime(index_events_str)"
   ]
  },
  {
   "cell_type": "markdown",
   "metadata": {},
   "source": [
    "## Timezones\n",
    "\n",
    "Some basic concepts first:\n",
    "\n",
    "- **UTC** universal time coordinates: is the standard to assign to each country in the world a timezone, that is an offset in respect to the timezone zero, also called Zulu or GTM.\n",
    "- **GMT** Greenwich Mean Time: is the time zone at the meridian zero, passing at Greenwich in England. The UTC standard tells you how many time zone you are away from Greenwich.\n",
    "- **Zulu** for the NATO alphabet letter `Z`, was originally indicating the letter z as in \"zero meridian\". This is an equivalent of GTM and it is commonly used in the army and in the civilian aviation. The final \"zulu\" in a radio message refers to the fact that the time is not read in local time. For example `02:00am` at GMT, would read \"zero two hundred zulu\" in a radio communication. \n",
    "\n",
    "The names of the timezones are typically the UTC offsets, written as suffix to the timestamps, such as `+02:00` or `-05:00`, though some particularly recurring timezones have their names, such as:\n",
    "\n",
    "- Eastern Standard Time (EST): UTC-0500 or 5 hours behind GMT.\n",
    "- Central Standard Time (CST): UTC-0600 or 6 hours behind GMT.\n",
    "- Mountain Standard Time (MST): UTC-0700 or 7 hours behind GMT.\n",
    "- Pacific Standard Time (PST): UTC-0800 or 8 hours behind GMT.\n",
    "\n",
    "### Timezones in timestamps\n",
    "\n",
    "When timezones are written as offsets and appended to the timestamps, the are **also summed or subtracted** to the datetime itself. \n",
    "\n",
    "For example to write `2023-02-21T06:07:21+03:30` in GMT, we have to set the offset to zero and subtract the offset: `2023-02-21T02:37:21+00:00`, that in the ISO 8601 becomes `2023-02-21T02:37:21Z`, with in the Zulu timezone, and in a convention that is often found in public datasets as `2023-02-21 02:37:21 UTC`, conflating the concepts of `GMT` and `UTC`.\n",
    "\n",
    "Another way of encoding the timezones is with the name of a representative city where the timezone belongs to. `+03:30` does not tell much about where we are, if compared to `\"Asia/Tehran\"`.\n",
    "\n",
    "### No timezone given\n",
    "\n",
    "When a timezone is not specified, the timestamp is said to be **naive**, or not timezone-aware. \n",
    "\n",
    "In this case it is important to check with the data provider if the datetime are given in local time or at GMT. If the datetime are given as integer UNIX timestamps, then they are at GMT, unless there was a mistake in the data ingestion.\n"
   ]
  },
  {
   "cell_type": "code",
   "execution_count": 32,
   "metadata": {},
   "outputs": [
    {
     "name": "stdout",
     "output_type": "stream",
     "text": [
      "naive datetime:  2023-02-21T02:37:21\n",
      "GTM datetime:    2023-02-21T02:37:21\n",
      "datetime +00:00: 2023-02-21T02:37:21+00:00\n",
      "datetime +01:00: 2023-02-21T03:37:21+01:00\n"
     ]
    }
   ],
   "source": [
    "import datetime as dt\n",
    "from dateutil import tz\n",
    "\n",
    "# naive\n",
    "str_event = \"2023-02-21 02:37:21\"\n",
    "\n",
    "dt_event = dt.datetime.strptime(str_event, \"%Y-%m-%d %H:%M:%S\")\n",
    "print(f\"naive datetime:  {dt_event.isoformat()}\")\n",
    "\n",
    "# GTM\n",
    "str_event = \"2023-02-21 02:37:21 GMT\"  # works also with UTC instead of GMT\n",
    "\n",
    "dt_event = dt.datetime.strptime(str_event, \"%Y-%m-%d %H:%M:%S %Z\")\n",
    "print(f\"GTM datetime:    {dt_event.isoformat()}\")\n",
    "\n",
    "# zero offset\n",
    "str_event = \"2023-02-21 02:37:21+00:00\"\n",
    "\n",
    "dt_event = dt.datetime.strptime(str_event, \"%Y-%m-%d %H:%M:%S%z\")\n",
    "print(f\"datetime +00:00: {dt_event.isoformat()}\")\n",
    "\n",
    "# +1h offset\n",
    "str_event = \"2023-02-21 03:37:21+01:00\"\n",
    "\n",
    "dt_event = dt.datetime.strptime(str_event, \"%Y-%m-%d %H:%M:%S%z\")\n",
    "print(f\"datetime +01:00: {dt_event.isoformat()}\")\n"
   ]
  },
  {
   "cell_type": "markdown",
   "metadata": {},
   "source": [
    "The code above should be enough to convince you that when the offset is not specified, then we can assume the datetime is at GMT, as it was at GMT when we passed as a string.\n",
    "\n",
    "### Timezones as capital cities\n",
    "\n",
    "Below, with `dateutil` we can also pass the offset with the capital city based offset, such as \"Asia/Tehran\"."
   ]
  },
  {
   "cell_type": "code",
   "execution_count": 33,
   "metadata": {},
   "outputs": [
    {
     "name": "stdout",
     "output_type": "stream",
     "text": [
      "datetime: 2023-02-21T03:37:21\n",
      "datetime: 2023-02-21T07:07:21+03:30\n"
     ]
    }
   ],
   "source": [
    "from dateutil import tz\n",
    "\n",
    "# country/city offset\n",
    "str_event = \"2023-02-21 03:37:21\"\n",
    "str_offset = \"Asia/Tehran\"\n",
    "\n",
    "dt_event = dt.datetime.strptime(str_event, \"%Y-%m-%d %H:%M:%S\")\n",
    "print(f\"datetime: {dt_event.isoformat()}\")\n",
    "dt_event = dt_event.astimezone(tz.gettz(str_offset))\n",
    "print(f\"datetime: {dt_event.isoformat()}\")\n"
   ]
  },
  {
   "cell_type": "markdown",
   "metadata": {},
   "source": [
    "If you use this solution be aware that there is no validation, and if the string is misspelled or non existing, the datetime will be assigned the default `+00:00` offset."
   ]
  },
  {
   "cell_type": "code",
   "execution_count": 34,
   "metadata": {},
   "outputs": [
    {
     "name": "stdout",
     "output_type": "stream",
     "text": [
      "datetime: 2023-02-21T03:37:21\n",
      "datetime in Asia/Tehran: 2023-02-21T07:07:21+03:30\n",
      "datetime in Asia/Theran: 2023-02-21T03:37:21+00:00\n",
      "datetime in MiddleEarth/County: 2023-02-21T03:37:21+00:00\n"
     ]
    }
   ],
   "source": [
    "dt_event = dt.datetime.strptime(str_event, \"%Y-%m-%d %H:%M:%S\")\n",
    "print(f\"datetime: {dt_event.isoformat()}\")\n",
    "\n",
    "correct = \"Asia/Tehran\"\n",
    "dt_event = dt_event.astimezone(tz.gettz(correct))\n",
    "print(f\"datetime in {correct}: {dt_event.isoformat()}\")\n",
    "\n",
    "misspelled = \"Asia/Theran\"\n",
    "dt_event = dt_event.astimezone(tz.gettz(misspelled))\n",
    "print(f\"datetime in {misspelled}: {dt_event.isoformat()}\")\n",
    "\n",
    "plain_wrong = \"MiddleEarth/County\"\n",
    "dt_event = dt_event.astimezone(tz.gettz(plain_wrong))\n",
    "print(f\"datetime in {plain_wrong}: {dt_event.isoformat()}\")\n"
   ]
  },
  {
   "cell_type": "markdown",
   "metadata": {},
   "source": [
    "Not raising an error for non existing capitals is not ideal. So rather than assigning the timezone `dateutil` I would recommend the method `timezone` from `pytz`.\n"
   ]
  },
  {
   "cell_type": "code",
   "execution_count": 35,
   "metadata": {},
   "outputs": [
    {
     "name": "stdout",
     "output_type": "stream",
     "text": [
      "datetime in Asia/Tehran: 2023-02-21T07:07:21+03:30\n",
      "Error raised: <class 'pytz.exceptions.UnknownTimeZoneError'> 'MiddleEarth/County'\n"
     ]
    }
   ],
   "source": [
    "from pytz import timezone\n",
    "\n",
    "dt_event = dt.datetime.strptime(str_event, \"%Y-%m-%d %H:%M:%S\")\n",
    "\n",
    "correct = \"Asia/Tehran\"\n",
    "dt_event = dt_event.astimezone(tz.gettz(correct))\n",
    "print(f\"datetime in {correct}: {dt_event.isoformat()}\")\n",
    "\n",
    "plain_wrong = \"MiddleEarth/County\"\n",
    "try:\n",
    "    dt_event.astimezone(timezone(plain_wrong))\n",
    "    print(f\"datetime in {plain_wrong}: {dt_event.isoformat()}\")\n",
    "except Exception as err:\n",
    "    print(f\"Error raised: {type(err)} {err}\")"
   ]
  },
  {
   "cell_type": "markdown",
   "metadata": {},
   "source": [
    "### Timezones in pandas\n",
    "\n",
    "Also to the `pd.Timestamp` object can be assigned a timezone with `tz_localize` and can be converted from one timezone to another with `tz_convert` (this last works only with the non-naive timestamps)."
   ]
  },
  {
   "cell_type": "code",
   "execution_count": 36,
   "metadata": {},
   "outputs": [],
   "source": [
    "index_events = pd.date_range(start='3/1/2022', end='3/10/2022')"
   ]
  },
  {
   "cell_type": "code",
   "execution_count": 37,
   "metadata": {},
   "outputs": [
    {
     "name": "stdout",
     "output_type": "stream",
     "text": [
      "We can not use tz_convert directly. Error raised: Cannot convert tz-naive timestamps, use tz_localize to localize\n"
     ]
    }
   ],
   "source": [
    "try:\n",
    "    index_events.tz_convert('US/Pacific')\n",
    "except TypeError as err:\n",
    "    print(f\"We can not use tz_convert directly. Error raised: {err}\")"
   ]
  },
  {
   "cell_type": "code",
   "execution_count": 38,
   "metadata": {},
   "outputs": [
    {
     "name": "stdout",
     "output_type": "stream",
     "text": [
      "10 days: \n",
      "[\n",
      "    2022-03-01 00:00:00-08:00\n",
      "    2022-03-02 00:00:00-08:00\n",
      "    2022-03-03 00:00:00-08:00\n",
      "    2022-03-04 00:00:00-08:00\n",
      "    2022-03-05 00:00:00-08:00\n",
      "    2022-03-06 00:00:00-08:00\n",
      "    2022-03-07 00:00:00-08:00\n",
      "    2022-03-08 00:00:00-08:00\n",
      "    2022-03-09 00:00:00-08:00\n",
      "    2022-03-10 00:00:00-08:00\n",
      "]\n",
      "This is a <class 'pandas.core.indexes.datetimes.DatetimeIndex'> of <class 'pandas._libs.tslibs.timestamps.Timestamp'> elements.\n"
     ]
    }
   ],
   "source": [
    "index_events_localised = index_events.tz_localize('US/Pacific')\n",
    "print_events(index_events_localised)  # note that the datetimes are not shifted! They are considered in local time at the specified location"
   ]
  },
  {
   "cell_type": "code",
   "execution_count": 39,
   "metadata": {},
   "outputs": [
    {
     "name": "stdout",
     "output_type": "stream",
     "text": [
      "10 days: \n",
      "[\n",
      "    2022-03-01 08:00:00+00:00\n",
      "    2022-03-02 08:00:00+00:00\n",
      "    2022-03-03 08:00:00+00:00\n",
      "    2022-03-04 08:00:00+00:00\n",
      "    2022-03-05 08:00:00+00:00\n",
      "    2022-03-06 08:00:00+00:00\n",
      "    2022-03-07 08:00:00+00:00\n",
      "    2022-03-08 08:00:00+00:00\n",
      "    2022-03-09 08:00:00+00:00\n",
      "    2022-03-10 08:00:00+00:00\n",
      "]\n",
      "This is a <class 'pandas.core.indexes.datetimes.DatetimeIndex'> of <class 'pandas._libs.tslibs.timestamps.Timestamp'> elements.\n"
     ]
    }
   ],
   "source": [
    "print_events(index_events_localised.tz_convert('GMT'))"
   ]
  },
  {
   "cell_type": "markdown",
   "metadata": {},
   "source": [
    "For a given dataset of datetime in GMT, we have first to localise them over Greenwich, and then convert to the local timezone. "
   ]
  },
  {
   "cell_type": "code",
   "execution_count": 40,
   "metadata": {},
   "outputs": [
    {
     "name": "stdout",
     "output_type": "stream",
     "text": [
      "10 days: \n",
      "[\n",
      "    2022-02-28 16:00:00-08:00\n",
      "    2022-03-01 16:00:00-08:00\n",
      "    2022-03-02 16:00:00-08:00\n",
      "    2022-03-03 16:00:00-08:00\n",
      "    2022-03-04 16:00:00-08:00\n",
      "    2022-03-05 16:00:00-08:00\n",
      "    2022-03-06 16:00:00-08:00\n",
      "    2022-03-07 16:00:00-08:00\n",
      "    2022-03-08 16:00:00-08:00\n",
      "    2022-03-09 16:00:00-08:00\n",
      "]\n",
      "This is a <class 'pandas.core.indexes.datetimes.DatetimeIndex'> of <class 'pandas._libs.tslibs.timestamps.Timestamp'> elements.\n"
     ]
    }
   ],
   "source": [
    "index_events = pd.date_range(start='3/1/2022', end='3/10/2022').tz_localize(\"GMT\")\n",
    "print_events(index_events.tz_convert('US/Pacific'))"
   ]
  }
 ],
 "metadata": {
  "kernelspec": {
   "display_name": "notes",
   "language": "python",
   "name": "python3"
  },
  "language_info": {
   "codemirror_mode": {
    "name": "ipython",
    "version": 3
   },
   "file_extension": ".py",
   "mimetype": "text/x-python",
   "name": "python",
   "nbconvert_exporter": "python",
   "pygments_lexer": "ipython3",
   "version": "3.11.0"
  }
 },
 "nbformat": 4,
 "nbformat_minor": 2
}
