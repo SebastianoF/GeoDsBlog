{
 "cells": [
  {
   "cell_type": "markdown",
   "metadata": {},
   "source": [
    "---\n",
    "title: Haversine distance at different altitudes\n",
    "subtitle: Numerical methods to compute the distance between two points on the sphere, with altitude\n",
    "date: 2025-03-10\n",
    "categories: [tutorial, geospatial, mathematics]\n",
    "image: images/cover.png\n",
    "toc: true\n",
    "draft: true\n",
    "colab: <a href=\"https://colab.research.google.com/github/SebastianoF/GeoDsBlog/blob/master/posts/gds-2025-03-10-haversine-with-altitude/index.ipynb\" target=\"_blank\"><img src=\"images/colab.svg\"></a>\n",
    "github: <a href=\"https://github.com/SebastianoF/GeoDsBlog/blob/master/posts/gds-2025-03-10-haversine-with-altitude/index.ipynb\" target=\"_blank\">  <img src=\"images/github.svg\"> </a>\n",
    "twitter-card:\n",
    "  image: images/cover.png\n",
    "---\n"
   ]
  },
  {
   "cell_type": "markdown",
   "metadata": {},
   "source": [
    "![](images/cover.png)\n",
    "\n",
    "# Introduction\n"
   ]
  },
  {
   "cell_type": "code",
   "execution_count": null,
   "metadata": {},
   "outputs": [],
   "source": []
  },
  {
   "cell_type": "code",
   "execution_count": 13,
   "metadata": {},
   "outputs": [],
   "source": [
    "from typing_extensions import Annotated\n",
    "\n",
    "from pydantic import AfterValidator, BaseModel, ValidationError\n",
    "\n",
    "import numpy as np\n",
    "\n",
    "\n",
    "def between_minus_180_and_180(lon: float) -> float:\n",
    "    if lon < -180 or lon > 180:\n",
    "        raise ValueError(f\"Longitude {lon} must be between -180 and +180\")\n",
    "    return lon\n",
    "\n",
    "\n",
    "def between_minus_pi_and_pi(theta: float) -> float:\n",
    "    if theta < -np.pi or theta > np.pi:\n",
    "        raise ValueError(f\"Longitude {theta} must be between -pi and +pi\")\n",
    "    return theta\n",
    "\n",
    "\n",
    "def between_minus_90_and_90(lat: float) -> float:\n",
    "    if lat < -90 or lat > 90:\n",
    "        raise ValueError(f\"Latitude {lat} must be between -90 and +90\")\n",
    "    return lat\n",
    "\n",
    "\n",
    "def between_minus_half_pi_and_half_pi(phi: float) -> float:\n",
    "    if phi < -np.pi / 2 or phi > np.pi / 2:\n",
    "        raise ValueError(f\"Latitude {phi} must be between -pi/1 and +pi/2\")\n",
    "    return phi\n",
    "\n",
    "\n",
    "def positive(alt: float) -> float:\n",
    "    if alt < 0:\n",
    "        raise ValueError(f\"Altitude {alt} must be positive\")\n",
    "    return alt\n",
    "\n",
    "\n",
    "class PointDeg(BaseModel):\n",
    "    lon: Annotated[float, AfterValidator(between_minus_180_and_180)]\n",
    "    lat: Annotated[float, AfterValidator(between_minus_90_and_90)]\n",
    "    alt: Annotated[float, AfterValidator(positive)]\n",
    "\n",
    "    class Config:\n",
    "        frozen = True\n",
    "\n",
    "\n",
    "class PointRad(BaseModel):\n",
    "    theta: Annotated[float, AfterValidator(between_minus_pi_and_pi)]\n",
    "    phi: Annotated[float, AfterValidator(between_minus_half_pi_and_half_pi)]\n",
    "    alt: Annotated[float, AfterValidator(positive)]\n",
    "\n",
    "    class Config:\n",
    "        frozen = True\n",
    "\n",
    "\n",
    "def deg2rad(point: PointDeg) -> PointRad:\n",
    "    return PointRad(\n",
    "        theta=float(np.deg2rad(point.lon)),\n",
    "        phi=float(np.deg2rad(point.lat)),\n",
    "        alt=point.alt,\n",
    "    )\n",
    "\n",
    "\n",
    "def rad2deg(point: PointRad) -> PointDeg:\n",
    "    return PointDeg(\n",
    "        lon=float(np.deg2rad(point.theta)),\n",
    "        lat=float(np.deg2rad(point.phi)),\n",
    "        alt=point.alt,\n",
    "    )\n",
    "\n",
    "\n",
    "# do some testing\n",
    "# try:\n",
    "#     PointDeg(lonlat=-)\n",
    "# except ValidationError as err:\n",
    "#     print(err)\n",
    "#     \"\"\"\n",
    "#     1 validation error for Model\n",
    "#     number\n",
    "#       Value error, 1 is not an even number [type=value_error, input_value=1, input_type=int]\n",
    "#    \"\"\"\n"
   ]
  },
  {
   "cell_type": "code",
   "execution_count": 14,
   "metadata": {},
   "outputs": [],
   "source": [
    "a = PointDeg(lat=12, lon=90, alt=4)"
   ]
  },
  {
   "cell_type": "code",
   "execution_count": 15,
   "metadata": {},
   "outputs": [
    {
     "data": {
      "text/plain": [
       "np.float64(369.0)"
      ]
     },
     "execution_count": 15,
     "metadata": {},
     "output_type": "execute_result"
    }
   ],
   "source": [
    "np.rad2deg(np.deg2rad(369))\n"
   ]
  },
  {
   "cell_type": "code",
   "execution_count": 16,
   "metadata": {},
   "outputs": [],
   "source": [
    "def hav_function(theta_A: float, phi_A: float, theta_B: float, phi_B: float) -> float:\n",
    "    hav_rad = lambda x: np.sin(x / 2) ** 2\n",
    "    return hav_rad(phi_B - phi_A) + (1 - hav_rad(phi_B - phi_A) - hav_rad(phi_B + phi_A)) * hav_rad(theta_B - theta_A)\n",
    "\n",
    "\n",
    "def haversine_distance(p1: PointDeg, p2: PointDeg, R_Km) -> float:\n",
    "    theta_1, phi_1, theta_2, phi_2 = map(np.radians, [p1.lon, p1.lat, p2.lon, p2.lat])\n",
    "    return 2 * R_Km * np.arcsin(np.sqrt(hav_function(theta_1, phi_1, theta_2, phi_2)))"
   ]
  },
  {
   "cell_type": "code",
   "execution_count": 17,
   "metadata": {},
   "outputs": [],
   "source": [
    "# given two points\n",
    "p_A = PointDeg(lon=0.0, lat=0.0, alt=0)\n",
    "p_B = PointDeg(lon=5.0, lat=5.0, alt=5)"
   ]
  },
  {
   "cell_type": "code",
   "execution_count": 25,
   "metadata": {},
   "outputs": [
    {
     "name": "stdout",
     "output_type": "stream",
     "text": [
      "radius lowest point:    6371.0 (Km)\n",
      "difference in altitude: 5.0 (Km)\n"
     ]
    }
   ],
   "source": [
    "R_Km = 6371\n",
    "R_min = np.min([p_A.alt + R_Km, p_B.alt + R_Km])\n",
    "delta_H = np.abs(p_A.alt - p_B.alt)\n",
    "M = 3\n",
    "print(f\"radius lowest point:    {R_min} (Km)\")\n",
    "print(f\"difference in altitude: {delta_H} (Km)\")"
   ]
  },
  {
   "cell_type": "code",
   "execution_count": null,
   "metadata": {},
   "outputs": [
    {
     "name": "stdout",
     "output_type": "stream",
     "text": [
      "785.7672208422621 98.22090260528276\n"
     ]
    }
   ],
   "source": [
    "D = haversine_distance(p_A, p_B, R_Km)\n",
    "d = D / (2**M)\n",
    "\n",
    "print(D, d)\n"
   ]
  },
  {
   "cell_type": "code",
   "execution_count": null,
   "metadata": {},
   "outputs": [],
   "source": [
    "def beta(i):\n",
    "    return i * d * delta_H / D\n",
    "\n",
    "\n",
    "def alpha(i):\n",
    "    return i * d * delta_H / D  # in progress\n",
    "\n",
    "\n",
    "# doing the heavylifting means that there is not much code left at the end."
   ]
  },
  {
   "cell_type": "code",
   "execution_count": null,
   "metadata": {},
   "outputs": [],
   "source": []
  }
 ],
 "metadata": {
  "kernelspec": {
   "display_name": ".venv",
   "language": "python",
   "name": "python3"
  },
  "language_info": {
   "codemirror_mode": {
    "name": "ipython",
    "version": 3
   },
   "file_extension": ".py",
   "mimetype": "text/x-python",
   "name": "python",
   "nbconvert_exporter": "python",
   "pygments_lexer": "ipython3",
   "version": "3.12.4"
  }
 },
 "nbformat": 4,
 "nbformat_minor": 2
}
