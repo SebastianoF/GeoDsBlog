{
 "cells": [
  {
   "cell_type": "markdown",
   "metadata": {},
   "source": [
    "---\n",
    "title: Haversine distance at different altitudes\n",
    "subtitle: Numerical methods to compute the distance between two points on the sphere, with altitude\n",
    "date: 2025-03-10\n",
    "categories: [tutorial, geospatial, mathematics]\n",
    "image: images/cover.png\n",
    "toc: true\n",
    "draft: false\n",
    "colab: <a href=\"https://colab.research.google.com/github/SebastianoF/GeoDsBlog/blob/master/posts/gds-2025-03-10-haversine-with-altitude/index.ipynb\" target=\"_blank\"><img src=\"images/colab.svg\"></a>\n",
    "github: <a href=\"https://github.com/SebastianoF/GeoDsBlog/blob/master/posts/gds-2025-03-10-haversine-with-altitude/index.ipynb\" target=\"_blank\">  <img src=\"images/github.svg\"> </a>\n",
    "twitter-card:\n",
    "  image: images/cover.png\n",
    "---\n"
   ]
  },
  {
   "cell_type": "markdown",
   "metadata": {},
   "source": [
    "![](images/cover.png)\n",
    "\n",
    "# Introduction\n"
   ]
  },
  {
   "cell_type": "markdown",
   "metadata": {},
   "source": [
    "This blog post presents a numerical method to compute the Haversine distance between points at different altitude. \n",
    "\n",
    "The problem is formalised in @sec-problem-setting, then @sec-pythagoras offers a naive numerical method based on Pythagoras. \n",
    "\n",
    "Finally in section @sec-calculus a more accurate method based on differential calculus is presented.\n",
    "\n",
    "If you are passing around to get the code, please do jump directly to to @sec-code, and if you are here for some amusement, or to test your understanding, you can look at the final exercises (with some solutions) in section sec-appendix @sec-exercises\n",
    "\n",
    "\n",
    "::: {.callout-note}\n",
    "This blog post was inspired by and created after [this question](https://stackoverflow.com/questions/33111529/calculating-distance-between-two-points-using-latitude-longitude-and-altitude-e#:~:text=You%20can%20calculate%20distance%20between,change%20in%20elevation%20in%20meters) on stack overflow (there was not enough space to fit it all in a single answer).\n",
    "\n",
    "Thanks to [sebb](https://stackoverflow.com/users/4563194/sebb) for raising it, and to all the thread's contributors.\n",
    "\n",
    ":::\n",
    "\n",
    "-  @sec-problem-setting problem setting\n",
    "-  @sec-pythagoras naive solution with Pythagoras\n",
    "-  @sec-calculus more accurate solution based on integral calculus\n",
    "-  @sec-exercises hands-on exercises\n"
   ]
  },
  {
   "cell_type": "markdown",
   "metadata": {},
   "source": [
    "## Problem setting {#sec-problem-setting}\n",
    "\n",
    "Two points $p_A$ and $p_B$ on the surface of two concentric spheres can be described by the three coordinates: the usual latitude and longitude in degrees and the altitude in a chosen unit of measurement (Km in this case). When the angles are expressed in radians, we use the greek letters theta and phi, or $\\theta$ and $\\varphi$.\n",
    "\n",
    "$$\n",
    "\\begin{align*}\n",
    "p_{A} & = \\begin{cases}\n",
    "    \\theta_A \\\\\n",
    "    \\varphi_A \\\\\n",
    "     h_A  \\\\\n",
    "     \\end{cases}\n",
    "\\qquad\n",
    "p_{B} = \\begin{cases}\n",
    "    \\theta_B \\qquad \\quad \\text{longitude [rad]}\\\\\n",
    "    \\varphi_B \\qquad \\quad \\text{latitude [rad]} \\\\\n",
    "     h_B \\qquad \\quad \\text{altitude [Km]}  \\\\\n",
    "\\end{cases}\n",
    "\\end{align*}\n",
    "$$ \n",
    "\n",
    "The altitude is not the radius of the spheres where the point lives, as it is relative to a zero-altitude sphere whose radius is the average earth radius $\\mathcal{R}$  (that is, an ideal approximation of the sea level). \n",
    "\n",
    "Something not used in this post, but added here for completeness and for a clearer understanding of the zero-altitude radius: the immersion of a point $p$ with altitude $h$ from the sphere of radius $\\mathcal{R}$ to the 3D space whose origin is at the centre of the sphere and the north pole is on the z-axis, indicated with the greek letter iota, is given by:\n",
    "\n",
    "$$\n",
    "\\iota_{\\mathcal{R}}: \\mathbb{S}^2 \\rightarrow  \\mathbb{R}^3\n",
    "$$ \n",
    "\n",
    "$$\n",
    "\\iota_{\\mathcal{R}}(p)\n",
    "=\n",
    "\\iota_{\\mathcal{R}}(\\theta, \\varphi, h) \n",
    "= \n",
    "\\begin{cases}\n",
    "       x = (\\mathcal{R} + h) \\cos\\varphi \\cos\\theta\\\\\n",
    "       y = (\\mathcal{R} + h) \\cos\\varphi \\sin\\theta\\\\\n",
    "       z = (\\mathcal{R} + h) \\sin\\varphi\\\\\n",
    "\\end{cases}\n",
    "$$ \n"
   ]
  },
  {
   "cell_type": "markdown",
   "metadata": {},
   "source": [
    "In the previous blog posts about the [Haversine distance](https://sebastianof.github.io/GeoDsBlog/posts/gds-2024-01-10-haversine-dist/) and [bearing](https://sebastianof.github.io/GeoDsBlog/posts/gds-2025-02-09-bearing/) we have dealt with only 2 coordinate systems and done without classes. Here for a change, and to avoid swapping latitude and longitude by mistake, points are encoded with python classes."
   ]
  },
  {
   "cell_type": "code",
   "execution_count": 42,
   "metadata": {},
   "outputs": [],
   "source": [
    "import numpy as np\n",
    "from pydantic import AfterValidator, BaseModel\n",
    "from typing_extensions import Annotated\n",
    "\n",
    "\n",
    "def between_minus_180_and_180(lon: float) -> float:\n",
    "    if lon < -180 or lon > 180:\n",
    "        raise ValueError(f\"Longitude {lon} must be between -180 and +180\")\n",
    "    return lon\n",
    "\n",
    "\n",
    "def between_minus_pi_and_pi(theta: float) -> float:\n",
    "    if theta < -np.pi or theta > np.pi:\n",
    "        raise ValueError(f\"Longitude {theta} must be between -pi and +pi\")\n",
    "    return theta\n",
    "\n",
    "\n",
    "def between_minus_90_and_90(lat: float) -> float:\n",
    "    if lat < -90 or lat > 90:\n",
    "        raise ValueError(f\"Latitude {lat} must be between -90 and +90\")\n",
    "    return lat\n",
    "\n",
    "\n",
    "def between_minus_half_pi_and_half_pi(phi: float) -> float:\n",
    "    if phi < -np.pi / 2 or phi > np.pi / 2:\n",
    "        raise ValueError(f\"Latitude {phi} must be between -pi/1 and +pi/2\")\n",
    "    return phi\n",
    "\n",
    "\n",
    "def positive(alt: float) -> float:\n",
    "    if alt < 0:\n",
    "        raise ValueError(f\"Altitude {alt} must be positive\")\n",
    "    return alt\n",
    "\n",
    "\n",
    "class PointDeg(BaseModel):\n",
    "    lon: Annotated[float, AfterValidator(between_minus_180_and_180)]\n",
    "    lat: Annotated[float, AfterValidator(between_minus_90_and_90)]\n",
    "    alt: Annotated[float, AfterValidator(positive)]\n",
    "\n",
    "    class Config:\n",
    "        frozen = True\n",
    "\n",
    "\n",
    "class PointRad(BaseModel):\n",
    "    theta: Annotated[float, AfterValidator(between_minus_pi_and_pi)]\n",
    "    phi: Annotated[float, AfterValidator(between_minus_half_pi_and_half_pi)]\n",
    "    alt: Annotated[float, AfterValidator(positive)]\n",
    "\n",
    "    class Config:\n",
    "        frozen = True\n",
    "\n",
    "\n",
    "class Point3D(BaseModel):\n",
    "    x: float\n",
    "    y: float\n",
    "    z: float\n",
    "\n",
    "    class Config:\n",
    "        frozen = True\n",
    "\n",
    "\n",
    "def deg2rad(point: PointDeg) -> PointRad:\n",
    "    return PointRad(\n",
    "        theta=float(np.deg2rad(point.lon)),\n",
    "        phi=float(np.deg2rad(point.lat)),\n",
    "        alt=point.alt,\n",
    "    )\n",
    "\n",
    "\n",
    "def rad2deg(point: PointRad) -> PointDeg:\n",
    "    return PointDeg(\n",
    "        lon=float(np.deg2rad(point.theta)),\n",
    "        lat=float(np.deg2rad(point.phi)),\n",
    "        alt=point.alt,\n",
    "    )\n",
    "\n",
    "\n",
    "def immersion_from_rad(point: PointRad, earth_radius: float) -> Point3D:\n",
    "    return Point3D(\n",
    "        x=(earth_radius + point.alt) * np.cos(point.phi) * np.cos(point.theta),\n",
    "        y=(earth_radius + point.alt) * np.cos(point.phi) * np.sin(point.theta),\n",
    "        z=(earth_radius + point.alt) * np.sin(point.phi),\n",
    "    )\n",
    "\n",
    "\n",
    "def immersion_from_deg(point: PointDeg) -> Point3D:\n",
    "    return immersion_from_rad(deg2rad(point))\n"
   ]
  },
  {
   "cell_type": "markdown",
   "metadata": {},
   "source": [
    "Finally, we add one more tool foundational to find the solution of the haversine distance for 2 points at different altitude: the Haversine distance for two points at the **same** altitude $h$, or better, the haversine distance for a heart of radius $\\mathcal{R} + h$:\n",
    "\n",
    "$$\n",
    "\\begin{align*}\n",
    "\\text{Hav}_{h}(p_A, p_B) =  2 (\\mathcal{R} + h) \\arcsin \n",
    "\\left(\n",
    "    \\left[  \n",
    "        \\text{hav}(\\varphi_B - \\varphi_A) + (1 - \\text{hav}(\\varphi_B - \\varphi_A) - \\text{hav}(\\varphi_B + \\varphi_A) ) \\text{hav}(\\theta_B - \\theta_A)\n",
    "    \\right]^{1/2}\n",
    "\\right)\n",
    "\\end{align*}\n",
    "$$\n",
    "where $\\text{hav}$ is the **Haversine function** given by:\n",
    "$$\n",
    "\\text{hav}(\\lambda) := \\sin^2\\left(\\frac{\\lambda}{2}\\right) = \\frac{1 - \\cos(\\lambda)}{2}~.\n",
    "$$"
   ]
  },
  {
   "cell_type": "code",
   "execution_count": 59,
   "metadata": {},
   "outputs": [],
   "source": [
    "def _hav_aux(p1: PointRad, p2: PointRad) -> float:\n",
    "    hav_fun = lambda x: np.sin(x / 2) ** 2\n",
    "    return hav_fun(p2.phi - p1.phi) + (1 - hav_fun(p2.phi - p1.phi) - hav_fun(p2.phi + p1.phi)) * hav_fun(\n",
    "        p2.theta - p1.theta\n",
    "    )\n",
    "\n",
    "\n",
    "def haversine_distance(p1: PointDeg, p2: PointDeg, radius: float) -> float:\n",
    "    return float(2 * radius * np.arcsin(np.sqrt(_hav_aux(deg2rad(p1), deg2rad(p2)))))\n"
   ]
  },
  {
   "cell_type": "markdown",
   "metadata": {},
   "source": [
    "We conclude the section with an observation that will prove to be very convenient later on: if we have the Haversine distance between two points at the same altitude $h_1$ (or radius $\\mathcal{R} + h_1$) and we want to know the distance between the same point at the same altitude $h_2$ (or radius $\\mathcal{R} + h_2$) there is no need to re-compute the haversine. \n",
    "\n",
    "We can simply divide by the orignal radius $\\mathcal{R} + h_1$, and then multiply for the intended radius $\\mathcal{R} + h_2$. \n",
    "\n",
    "In formula:\n",
    "$$\n",
    "\\begin{align}\n",
    "\\text{Hav}_{h_1} = \\frac{\\mathcal{R} + h_2}{\\mathcal{R} + h_1} \\text{Hav}_{h_2}\n",
    "\\end{align}\n",
    "$${#eq-hav-diff-h}"
   ]
  },
  {
   "cell_type": "code",
   "execution_count": 82,
   "metadata": {},
   "outputs": [
    {
     "name": "stdout",
     "output_type": "stream",
     "text": [
      "radius of the lowest point:      6371.0 (Km)\n",
      "radius of the highest point:     6571.0 (Km)\n"
     ]
    }
   ],
   "source": [
    "R_Km = 6371\n",
    "\n",
    "# two input points\n",
    "p_A = PointDeg(lon=0.0, lat=0.0, alt=0)\n",
    "p_B = PointDeg(lon=5.0, lat=5.0, alt=200)\n",
    "\n",
    "# generalize to any altitude\n",
    "\n",
    "R_min = np.min([p_A.alt, p_B.alt]) + R_Km\n",
    "R_max = np.max([p_A.alt, p_B.alt]) + R_Km\n",
    "\n",
    "print(f\"radius of the lowest point:      {R_min} (Km)\")\n",
    "print(f\"radius of the highest point:     {R_max} (Km)\")\n",
    "\n",
    "assert np.abs(haversine_distance(p_A, p_B, R_max) - (R_max / R_min) * haversine_distance(p_A, p_B, R_min)) < 10e-12\n",
    "assert np.abs(haversine_distance(p_A, p_B, R_min) - (R_min / R_max) * haversine_distance(p_A, p_B, R_max)) < 10e-12"
   ]
  },
  {
   "cell_type": "markdown",
   "metadata": {},
   "source": [
    "## First approximation with Pythagoras {#sec-pythagoras}\n",
    "\n",
    "The most direct way to compute the Haversine distance between two points at different altitude $\\text{Havh}$ is to apply Pythagora[^1] to the two cathets given by the haversine distance at the lowest altitude of the two points (say $h_A$) and to the difference in altitudes:\n",
    "\n",
    "$$\n",
    "\\begin{align*}\n",
    "\\text{Havh} (p_A, p_B) := \\sqrt{\\text{Hav}_{h_A} (p_A, p_B)^2 +  (h_B - h_A)^2 }\n",
    "\\end{align*}\n",
    "$$\n",
    "\n",
    "Now, for the case of $h_A < h_B$ we can geometrically expect $\\sqrt{\\text{Hav}_{h_A} (p_A, p_B)^2 +  (h_B - h_A)^2 }$ to be smaller than $\\sqrt{\\text{Hav}_{h_B} (p_A, p_B)^2 +  (h_B - h_A)^2 }$. We can also expect the first hypotenuse to be a lower bound for the correct solution and the second hypotenuse to be an upper bound.\n",
    "\n",
    "\n",
    "FIGURE 1 HERE\n",
    "\n",
    "So, a more accurate, although still naive answer can be their average:\n",
    "\n",
    "$$\n",
    "\\begin{align*}\n",
    "\\text{Havh} (p_A, p_B) := 0.5 \\sqrt{\\text{Hav}_{h_A} (p_A, p_B)^2 +  (h_B - h_A)^2 } + 0.5  \\sqrt{\\text{Hav}_{h_B} (p_A, p_B)^2 +  (h_B - h_A)^2 } \n",
    "\\end{align*}\n",
    "$$\n",
    "\n",
    "\n",
    "[^1]: For the naming, the two edges $\\alpha$ and $\\beta$ adjacent to the $90^{o}$ angle are called here **cathets**, and the opposite edge $\\gamma$ is called here **hypotenuse**, so $\\gamma = \\sqrt{\\alpha^2 + \\beta^2}$."
   ]
  },
  {
   "cell_type": "code",
   "execution_count": 81,
   "metadata": {},
   "outputs": [
    {
     "name": "stdout",
     "output_type": "stream",
     "text": [
      "Distance with naive Pythagoras 822.7841448241761 Km\n"
     ]
    }
   ],
   "source": [
    "def haversine_distance_h_naive(p1: PointDeg, p2: PointDeg, earth_radius: float) -> float:\n",
    "    r_min = np.min([p1.alt, p2.alt]) + earth_radius\n",
    "    r_max = np.max([p1.alt, p2.alt]) + earth_radius\n",
    "    return (\n",
    "        np.sqrt(haversine_distance(p1, p2, r_min) ** 2 + (p1.alt - p2.alt) ** 2)\n",
    "        + np.sqrt(haversine_distance(p_A, p_B, r_max) ** 2 + (p1.alt - p2.alt) ** 2)\n",
    "    ) / 2\n",
    "\n",
    "\n",
    "print(f\"Distance with naive Pythagoras {haversine_distance_h_naive(p_A, p_B, R_Km)} Km\")\n"
   ]
  },
  {
   "cell_type": "markdown",
   "metadata": {},
   "source": [
    "## Solution using calculus {#sec-calculus}\n",
    "\n",
    "Now, why the naive solution is not a great approximation? \n",
    "\n",
    "As it may be clear from the previous image, when increasing the altitude also the distance between points increases too, and that increase is not taken into account when using the distance at the lowest altitude for horizontal cathet. \n",
    "\n",
    "In the same way, when decreasing the altitude, the distance between points decreases, and this increase is not taken into account when using the distance at the highest altitude for horizontal cathet.\n",
    "\n",
    "Given a point $p_x$ on the haversine trajectory between $p_A$ and $p_B$ with altitude $h_x$, then the infinitesimal distance between $p_x$ and $$p_{x + dx}$ can be computed again with Pythagoras on the infinitesimal step:\n",
    "\n",
    "\n",
    "$$\n",
    "\\begin{align*}\n",
    "\\gamma_{x}^{x+dx} =  \\sqrt{\\text{Hav}_{h_x} (p_x, p_{x + dx})^2 +  (h_{x} - h_{x+dx})^2 }\n",
    "\\end{align*}\n",
    "$$\n",
    "\n",
    "FIGURE 2 HERE\n",
    "\n",
    "Using @eq-hav-diff-h and summing the infinitesimal parts the analytical solution to the problem is given by:\n",
    "\n",
    "$$\n",
    "\\begin{align*}\n",
    "\\gamma = \\int_{0}^{\\text{Hav}_{h_A}(p_A, p_B) } \\sqrt{ \\left( \\frac{\\mathcal{R} + h(x)}{\\mathcal{R} + h_A} \\text{Hav}_{h_x}(p_A, p_x)\\right)^2 +  \\left( h(x) - h_{A}\\right)^2 } dx\n",
    "\\end{align*}\n",
    "$$\n",
    "\n",
    "where $h(x)$ is the progressive altitude of $x$ between $p_A$ and $p_B$.\n",
    "\n",
    "This is an integral. Albeit cool to have one in a blog post, it may or may not have a closed form. Fortunately we do not care about finding one, as to solve the problem for specific points in any case we will be using a numerical method that divides the horizontal cathet in $N$ parts[^2], increases progressively their altitudes and then sum the hypotenuses those parts together.\n",
    "\n",
    "[^2]: And those parts will be neither infinitesimal in length and nor infinite in numbers.\n"
   ]
  },
  {
   "cell_type": "markdown",
   "metadata": {},
   "source": [
    "To make the formula (and the numerical method alike) clearer, we see what happens for the simple case when $N=3$. \n",
    "\n",
    "FIGURE 3 HERE\n",
    "\n",
    "\n",
    "in progress"
   ]
  },
  {
   "cell_type": "code",
   "execution_count": 83,
   "metadata": {},
   "outputs": [
    {
     "name": "stdout",
     "output_type": "stream",
     "text": [
      "distance in altitude:               200.0 (Km)\n",
      "haversine dist at lowest altitude:  785.7672208422621 (Km)\n",
      "haversine dist at highest altitude: 810.4342188282067 (Km)\n",
      "\n",
      "step distance in altitude: 0.6667 (Km)\n",
      "step distance haversine:   2.6192 (Km)\n",
      "solution with the numerical approximation:   822.7406 (Km)\n"
     ]
    }
   ],
   "source": [
    "H = np.abs(p_A.alt - p_B.alt)\n",
    "D = haversine_distance(p_A, p_B, R_min)\n",
    "D_max = haversine_distance(p_A, p_B, R_max)\n",
    "\n",
    "print(f\"distance in altitude:               {H} (Km)\")\n",
    "print(f\"haversine dist at lowest altitude:  {D} (Km)\")\n",
    "print(f\"haversine dist at highest altitude: {D_max} (Km)\")\n",
    "\n",
    "\n",
    "N = 300\n",
    "\n",
    "d = D / N\n",
    "h = H / N\n",
    "\n",
    "print()\n",
    "print(f\"step distance in altitude: {round(h,4)} (Km)\")\n",
    "print(f\"step distance haversine:   {round(d,4)} (Km)\")\n",
    "\n",
    "dist = float(np.sum([np.sqrt((d * ((R_min + i * h) / R_min)) ** 2 + h**2) for i in range(0, N)]))\n",
    "\n",
    "print(f\"solution with the numerical approximation:   {round(dist,4)} (Km)\")\n"
   ]
  },
  {
   "cell_type": "code",
   "execution_count": null,
   "metadata": {},
   "outputs": [],
   "source": []
  },
  {
   "cell_type": "code",
   "execution_count": null,
   "metadata": {},
   "outputs": [],
   "source": []
  },
  {
   "cell_type": "markdown",
   "metadata": {},
   "source": [
    "## Code {#sec-code}\n",
    "\n",
    "\n",
    "Bringing it together in a single function:\n"
   ]
  },
  {
   "cell_type": "code",
   "execution_count": null,
   "metadata": {},
   "outputs": [
    {
     "name": "stdout",
     "output_type": "stream",
     "text": [
      "solution:   822.7406 (Km)\n"
     ]
    }
   ],
   "source": [
    "def haversine_distance_with_altitude(\n",
    "    p1: PointDeg,\n",
    "    p2: PointDeg,\n",
    "    earth_radius: float = 6371.0,\n",
    "    iterations: int = 300,\n",
    ") -> float:\n",
    "    R_min = np.min([p1.alt, p2.alt]) + earth_radius\n",
    "    d = haversine_distance(p1, p2, R_min) / iterations\n",
    "    h = np.abs(p1.alt - p2.alt) / iterations\n",
    "    return float(np.sum([np.sqrt((d * ((R_min + i * h) / R_min)) ** 2 + h**2) for i in range(0, iterations)]))\n",
    "\n",
    "\n",
    "dist = haversine_distance_with_altitude(p_A, p_B, iterations=300)\n",
    "\n",
    "print(f\"solution:   {round(dist,4)} (Km)\")"
   ]
  },
  {
   "cell_type": "markdown",
   "metadata": {},
   "source": [
    "or, if you prefer to avoid classes, and all in a single snipped, the same function can be written as:\n",
    "\n",
    "```python\n",
    "import numpy as np\n",
    "\n",
    "\n",
    "def hav_aux(theta_A: float, phi_A: float, theta_B: float, phi_B: float) -> float:\n",
    "    hav_fun = lambda x: np.sin(x / 2) ** 2\n",
    "    return hav_fun(phi_B - phi_A) + (1 - hav_fun(phi_B - phi_A) - hav_fun(phi_B + phi_A)) * hav_fun(theta_B - theta_A)\n",
    "\n",
    "\n",
    "def haversine_distance(p1_lon: float, p1_lat: float, p2_lon: float, p2_lat: float, R_Km: float) -> float:\n",
    "    theta_1, phi_1, theta_2, phi_2 = map(np.radians, [p1_lon, p1_lat, p2_lon, p2_lat])\n",
    "    return float(2 * R_Km * np.arcsin(np.sqrt(hav_aux(theta_1, phi_1, theta_2, phi_2))))\n",
    "\n",
    "# TODO last bit haversine_distance_with_altitude without classes\n",
    "\n",
    "\n",
    "```"
   ]
  },
  {
   "cell_type": "code",
   "execution_count": null,
   "metadata": {},
   "outputs": [],
   "source": []
  },
  {
   "cell_type": "markdown",
   "metadata": {},
   "source": [
    "### Validation {#sec-validation}"
   ]
  },
  {
   "cell_type": "code",
   "execution_count": null,
   "metadata": {},
   "outputs": [],
   "source": []
  },
  {
   "cell_type": "markdown",
   "metadata": {},
   "source": [
    "## Hands-on {#sec-exercises}\n",
    "\n",
    "final exercise for the python-minded (and with no solution): turn functions into class methods."
   ]
  },
  {
   "cell_type": "code",
   "execution_count": null,
   "metadata": {},
   "outputs": [],
   "source": []
  },
  {
   "cell_type": "code",
   "execution_count": null,
   "metadata": {},
   "outputs": [],
   "source": []
  },
  {
   "cell_type": "code",
   "execution_count": null,
   "metadata": {},
   "outputs": [],
   "source": [
    "# do some testing\n",
    "# try:\n",
    "#     PointDeg(lonlat=-)\n",
    "# except ValidationError as err:\n",
    "#     print(err)\n",
    "#     \"\"\"\n",
    "#     1 validation error for Model\n",
    "#     number\n",
    "#       Value error, 1 is not an even number [type=value_error, input_value=1, input_type=int]\n",
    "#    \"\"\"\n"
   ]
  },
  {
   "cell_type": "code",
   "execution_count": null,
   "metadata": {},
   "outputs": [],
   "source": [
    "# https://stackoverflow.com/questions/33111529/calculating-distance-between-two-points-using-latitude-longitude-and-altitude-e#:~:text=You%20can%20calculate%20distance%20between,change%20in%20elevation%20in%20meters.\n",
    "# as soon as written post it over this blog post."
   ]
  },
  {
   "cell_type": "code",
   "execution_count": 44,
   "metadata": {},
   "outputs": [],
   "source": [
    "R_Km = 6371\n",
    "# given two points\n",
    "p_A = PointDeg(lon=0.0, lat=0.0, alt=0)\n",
    "p_B = PointDeg(lon=5.0, lat=5.0, alt=200)"
   ]
  },
  {
   "cell_type": "code",
   "execution_count": 45,
   "metadata": {},
   "outputs": [
    {
     "data": {
      "text/plain": [
       "785.7672208422621"
      ]
     },
     "execution_count": 45,
     "metadata": {},
     "output_type": "execute_result"
    }
   ],
   "source": [
    "haversine_distance(p_A, p_B, R_Km)"
   ]
  },
  {
   "cell_type": "code",
   "execution_count": null,
   "metadata": {},
   "outputs": [],
   "source": []
  },
  {
   "cell_type": "code",
   "execution_count": null,
   "metadata": {},
   "outputs": [],
   "source": [
    "haversine_distance(p_A, p_B, R_Km)"
   ]
  },
  {
   "cell_type": "code",
   "execution_count": null,
   "metadata": {},
   "outputs": [],
   "source": []
  },
  {
   "cell_type": "code",
   "execution_count": 70,
   "metadata": {},
   "outputs": [
    {
     "name": "stdout",
     "output_type": "stream",
     "text": [
      "radius lowest point:                6371.0 (Km)\n",
      "radius highest point:               6571.0 (Km)\n"
     ]
    }
   ],
   "source": [
    "R_min = np.min([p_A.alt, p_B.alt]) + R_Km\n",
    "R_max = np.max([p_A.alt, p_B.alt]) + R_Km\n",
    "\n",
    "print(f\"radius lowest point:                {R_min} (Km)\")\n",
    "print(f\"radius highest point:               {R_max} (Km)\")\n"
   ]
  },
  {
   "cell_type": "code",
   "execution_count": 71,
   "metadata": {},
   "outputs": [],
   "source": [
    "assert haversine_distance(p_A, p_B, R_max) == float(haversine_distance(p_A, p_B, R_min) * (R_min + H) / R_min)"
   ]
  },
  {
   "cell_type": "code",
   "execution_count": 72,
   "metadata": {},
   "outputs": [
    {
     "name": "stdout",
     "output_type": "stream",
     "text": [
      "distance in altitude:               200.0 (Km)\n",
      "haversine dist at lowest altitude:  785.7672208422621 (Km)\n",
      "haversine dist at highest altitude: 810.4342188282067 (Km)\n"
     ]
    }
   ],
   "source": [
    "# with Pitagora\n",
    "\n",
    "H = np.abs(p_A.alt - p_B.alt)\n",
    "D = haversine_distance(p_A, p_B, R_min)\n",
    "D_max = haversine_distance(p_A, p_B, R_max)\n",
    "\n",
    "print(f\"distance in altitude:               {H} (Km)\")\n",
    "print(f\"haversine dist at lowest altitude:  {D} (Km)\")\n",
    "print(f\"haversine dist at highest altitude: {D_max} (Km)\")\n"
   ]
  },
  {
   "cell_type": "code",
   "execution_count": 73,
   "metadata": {},
   "outputs": [
    {
     "data": {
      "text/plain": [
       "810.820649311654"
      ]
     },
     "execution_count": 73,
     "metadata": {},
     "output_type": "execute_result"
    }
   ],
   "source": [
    "# what is the difference between dist and the dist computed on the full batch and with no iterative process\n",
    "\n",
    "dist_pitagora_direct_min = float(np.sqrt(haversine_distance(p_A, p_B, R_min) ** 2 + H**2))\n",
    "dist_pitagora_direct_min"
   ]
  },
  {
   "cell_type": "code",
   "execution_count": 74,
   "metadata": {},
   "outputs": [
    {
     "data": {
      "text/plain": [
       "834.7476403366982"
      ]
     },
     "execution_count": 74,
     "metadata": {},
     "output_type": "execute_result"
    }
   ],
   "source": [
    "# if the direct was working OK then direct_min and direct_max should be the same. But it is not!\n",
    "dist_pitagora_direct_max = float(np.sqrt(haversine_distance(p_A, p_B, R_max) ** 2 + H**2))\n",
    "dist_pitagora_direct_max"
   ]
  },
  {
   "cell_type": "code",
   "execution_count": 75,
   "metadata": {},
   "outputs": [
    {
     "data": {
      "text/plain": [
       "822.7841448241761"
      ]
     },
     "execution_count": 75,
     "metadata": {},
     "output_type": "execute_result"
    }
   ],
   "source": [
    "# an approximation is the average of the direct\n",
    "dist_pitagora = (dist_pitagora_direct_max + dist_pitagora_direct_min) / 2\n",
    "dist_pitagora"
   ]
  },
  {
   "cell_type": "code",
   "execution_count": 76,
   "metadata": {},
   "outputs": [
    {
     "data": {
      "text/plain": [
       "np.float64(822.7841448241761)"
      ]
     },
     "execution_count": 76,
     "metadata": {},
     "output_type": "execute_result"
    }
   ],
   "source": [
    "haversine_distance_h_naive(p_A, p_B, R_Km)"
   ]
  },
  {
   "cell_type": "code",
   "execution_count": null,
   "metadata": {},
   "outputs": [],
   "source": []
  },
  {
   "cell_type": "code",
   "execution_count": null,
   "metadata": {},
   "outputs": [],
   "source": [
    "# approximating method\n",
    "\n",
    "N = 300\n",
    "\n",
    "d = D / N\n",
    "h = H / N\n",
    "\n",
    "print()\n",
    "print(f\"step distance in altitude: {round(h,4)} (Km)\")\n",
    "print(f\"step distance haversine:   {round(d,4)} (Km)\")\n",
    "\n",
    "dist = float(np.sum([np.sqrt((d * ((R_min + i * h) / R_min)) ** 2 + h**2) for i in range(0, N)]))\n",
    "dist"
   ]
  },
  {
   "cell_type": "code",
   "execution_count": null,
   "metadata": {},
   "outputs": [],
   "source": [
    "dist_better = float(\n",
    "    np.sum(\n",
    "        [\n",
    "            (\n",
    "                np.sqrt((d * ((R_min + i * h) / R_min)) ** 2 + h**2)\n",
    "                + np.sqrt((d * ((R_min + (i + 1) * h) / R_min)) ** 2 + h**2)\n",
    "            )\n",
    "            / 2\n",
    "            for i in range(0, N)\n",
    "        ]\n",
    "    )\n",
    ")\n",
    "dist_better\n"
   ]
  },
  {
   "cell_type": "code",
   "execution_count": null,
   "metadata": {},
   "outputs": [],
   "source": [
    "# all in one function\n",
    "\n"
   ]
  },
  {
   "cell_type": "code",
   "execution_count": null,
   "metadata": {},
   "outputs": [],
   "source": []
  },
  {
   "cell_type": "code",
   "execution_count": null,
   "metadata": {},
   "outputs": [],
   "source": []
  },
  {
   "cell_type": "code",
   "execution_count": null,
   "metadata": {},
   "outputs": [],
   "source": [
    "# test with point in the same location different altitude, same altitude different location.\n",
    "# check that is close enough to the method with pitagora\n",
    "\n",
    "# Leave as an exercise: can you apply the pitagora idea to improve the haversine distance with altitude?\n",
    "# solution:\n",
    "\n",
    "\n",
    "def haversine_distance_with_altitude_better(\n",
    "    p1: PointDeg,\n",
    "    p2: PointDeg,\n",
    "    earth_radius: float = 6371.0,\n",
    "    iterations: int = 300,\n",
    ") -> float:\n",
    "    R_min = np.min([p1.alt, p2.alt]) + earth_radius\n",
    "    d = haversine_distance(p1, p2, R_min) / iterations\n",
    "    h = np.abs(p1.alt - p2.alt) / iterations\n",
    "    return float(\n",
    "        np.sum(\n",
    "            [\n",
    "                (\n",
    "                    np.sqrt((d * ((R_min + i * h) / R_min)) ** 2 + h**2)\n",
    "                    + np.sqrt((d * ((R_min + (i + 1) * h) / R_min)) ** 2 + h**2)\n",
    "                )\n",
    "                / 2\n",
    "                for i in range(0, iterations)\n",
    "            ]\n",
    "        )\n",
    "    )\n",
    "\n",
    "\n",
    "# pitagora is based on the average, can you find a parameter to weight the average so that the average would be more accurate\n",
    "\n",
    "# solution: TODO compute w with some examples\n",
    "\n",
    "\n",
    "def haversine_distance_with_altitude_even_better(\n",
    "    p1: PointDeg,\n",
    "    p2: PointDeg,\n",
    "    earth_radius: float = 6371.0,\n",
    "    iterations: int = 300,\n",
    ") -> float:\n",
    "    w = 0.6\n",
    "    R_min = np.min([p1.alt, p2.alt]) + earth_radius\n",
    "    d = haversine_distance(p1, p2, R_min) / iterations\n",
    "    h = np.abs(p1.alt - p2.alt) / iterations\n",
    "    return float(\n",
    "        np.sum(\n",
    "            [\n",
    "                (\n",
    "                    (1 - w) * np.sqrt((d * ((R_min + i * h) / R_min)) ** 2 + h**2)\n",
    "                    + w * np.sqrt((d * ((R_min + (i + 1) * h) / R_min)) ** 2 + h**2)\n",
    "                )\n",
    "                for i in range(0, iterations)\n",
    "            ]\n",
    "        )\n",
    "    )\n",
    "\n",
    "\n",
    "# Is the haversine distance between two points at different altitude the shortest distance between the two points? Do you need to dig a tunnel?"
   ]
  },
  {
   "cell_type": "code",
   "execution_count": null,
   "metadata": {},
   "outputs": [],
   "source": [
    "haversine_distance_with_altitude_even_better(p_A, p_B, iterations=300)"
   ]
  },
  {
   "cell_type": "code",
   "execution_count": null,
   "metadata": {},
   "outputs": [],
   "source": [
    "haversine_distance_with_altitude_better(p_A, p_B, iterations=300)"
   ]
  },
  {
   "cell_type": "code",
   "execution_count": null,
   "metadata": {},
   "outputs": [],
   "source": []
  }
 ],
 "metadata": {
  "kernelspec": {
   "display_name": ".venv",
   "language": "python",
   "name": "python3"
  },
  "language_info": {
   "codemirror_mode": {
    "name": "ipython",
    "version": 3
   },
   "file_extension": ".py",
   "mimetype": "text/x-python",
   "name": "python",
   "nbconvert_exporter": "python",
   "pygments_lexer": "ipython3",
   "version": "3.12.4"
  }
 },
 "nbformat": 4,
 "nbformat_minor": 2
}
